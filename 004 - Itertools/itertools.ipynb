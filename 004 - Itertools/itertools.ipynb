{
 "cells": [
  {
   "cell_type": "markdown",
   "id": "2e37002f",
   "metadata": {},
   "source": [
    "# Itertools\n",
    "\n",
    "Itertools es una librería nativa de Python que permite crear y gestionar iteradores de una forma muy sencilla e intuitiva. Probablemente lo hayas visto en algún que otro código Python, pero en este post voy a tratar de explicar una por una cada método e intentar replicar lo que está pasando por atrás cada vez que invocamos alguna de esas funciones. Podemos encontrar iteradores infinitos, módulos de combinatoria e incluso iteradores con condicionales. Van a cansarse de ver \"for\" por todo este post pero por suerte no es nada complicado.\n"
   ]
  },
  {
   "cell_type": "markdown",
   "id": "0adb242f",
   "metadata": {},
   "source": [
    "La idea es seguir el orden que se encuentra en la documentación, así que si hay alguna duda podes consultarla [aquí](https://docs.python.org/3/library/itertools.html).\n",
    "\n",
    "Importamos el módulo y empezamos"
   ]
  },
  {
   "cell_type": "code",
   "execution_count": null,
   "id": "6b05d09c",
   "metadata": {},
   "outputs": [],
   "source": [
    "import itertools as it"
   ]
  },
  {
   "cell_type": "markdown",
   "id": "9b69d613",
   "metadata": {},
   "source": [
    "# Iteradores infinitos\n",
    "Estos pueden ser super útiles, pero hay que tener cuidado de establecer una condición para salir del loop porque sino itera literalmente hasta el infinito, como si fuera un \"while True\", por eso asegurense de meter un \"break\" en algún momento"
   ]
  },
  {
   "cell_type": "markdown",
   "id": "27c67b6a",
   "metadata": {},
   "source": [
    "### it.count()\n",
    "\n",
    "En este método declaras desde donde empieza a iterar (start) y de a cuanto va a saltar de iteración en iteración (step). ¿Hasta cuando? hasta que le pares el carro. Por ejemplo, podemos imprimir los números impares, pero como no queremos que siga hasta el infinito, podemos salir del loop antes de que llegue al número 100. De esta forma:\n"
   ]
  },
  {
   "cell_type": "code",
   "execution_count": 14,
   "id": "7b6d538d",
   "metadata": {},
   "outputs": [
    {
     "name": "stdout",
     "output_type": "stream",
     "text": [
      "1 3 5 7 9 11 13 15 17 19 21 23 25 27 29 31 33 35 37 39 41 43 45 47 49 51 53 55 57 59 61 63 65 67 69 71 73 75 77 79 81 83 85 87 89 91 93 95 97 99 "
     ]
    }
   ],
   "source": [
    "#count - versión itertools\n",
    "for even in it.count(start=1,step=2):\n",
    "    if even > 100:\n",
    "        break\n",
    "    print(even, end=\" \")\n",
    "    "
   ]
  },
  {
   "cell_type": "markdown",
   "id": "b469c946",
   "metadata": {},
   "source": [
    "... lo que podría replicarse con un while como:"
   ]
  },
  {
   "cell_type": "code",
   "execution_count": 84,
   "id": "5d9f33f1",
   "metadata": {},
   "outputs": [
    {
     "name": "stdout",
     "output_type": "stream",
     "text": [
      "1 3 5 7 9 11 13 15 17 19 21 23 25 27 29 31 33 35 37 39 41 43 45 47 49 51 53 55 57 59 61 63 65 67 69 71 73 75 77 79 81 83 85 87 89 91 93 95 97 99 "
     ]
    }
   ],
   "source": [
    "even = 1\n",
    "while even < 100:\n",
    "    print(even, end=\" \")\n",
    "    even += 2\n",
    "    "
   ]
  },
  {
   "cell_type": "markdown",
   "id": "c0bd47c8",
   "metadata": {},
   "source": [
    "### it.cycle()\n",
    "\n",
    "Cycle va a recorrer un iterable y al llegar al final, empezar de nuevo, así infinitamente.\n",
    "\n",
    "Imaginemos que queremos printear las estaciones de los próximos 5 años.\n",
    "Lo que podríamos hacer es definir las estaciones una vez y volverla a recorrer hasta que pasen esos 5 años:"
   ]
  },
  {
   "cell_type": "code",
   "execution_count": 93,
   "id": "61a829a4",
   "metadata": {},
   "outputs": [
    {
     "name": "stdout",
     "output_type": "stream",
     "text": [
      "Autumn 2020 / Winter 2020 / Spring 2020 / Summer 2020 / Autumn 2021 / Winter 2021 / Spring 2021 / Summer 2021 / Autumn 2022 / Winter 2022 / Spring 2022 / Summer 2022 / Autumn 2023 / Winter 2023 / Spring 2023 / Summer 2023 / Autumn 2024 / Winter 2024 / Spring 2024 / Summer 2024 / Autumn 2025 / Winter 2025 / Spring 2025 / Summer 2025 / ...\n"
     ]
    }
   ],
   "source": [
    "#cycle - versión itertools\n",
    "seasons = [\"Autumn\",\"Winter\",\"Spring\",\"Summer\"]\n",
    "year = 2020\n",
    "\n",
    "for season in it.cycle(seasons):\n",
    "    print(season,year, end=\" / \")\n",
    "    if season == \"Summer\":\n",
    "        if year == 2025:\n",
    "            print(\"...\")\n",
    "            break\n",
    "        year += 1\n",
    "    \n",
    "    "
   ]
  },
  {
   "cell_type": "markdown",
   "id": "cac31100",
   "metadata": {},
   "source": [
    "Como vemos, it.cycle() va a iterar hasta \"Summer\" y como es un iterador infinito, va a empezar por \"Autumn\" de nuevo. Entonces, lo que hice es sumar un año en cada vuelta, chequeando si se llegó al 2025. De ser así, es el momento de salir del loop. Una version usando un ciclo while podría ser:"
   ]
  },
  {
   "cell_type": "code",
   "execution_count": 94,
   "id": "6a04f3c2",
   "metadata": {},
   "outputs": [
    {
     "name": "stdout",
     "output_type": "stream",
     "text": [
      "Autumn 2020 / Winter 2020 / Spring 2020 / Summer 2020 / Autumn 2021 / Winter 2021 / Spring 2021 / Summer 2021 / Autumn 2022 / Winter 2022 / Spring 2022 / Summer 2022 / Autumn 2023 / Winter 2023 / Spring 2023 / Summer 2023 / Autumn 2024 / Winter 2024 / Spring 2024 / Summer 2024 / Autumn 2025 / Winter 2025 / Spring 2025 / Summer 2025 / ...\n"
     ]
    }
   ],
   "source": [
    "year = 2019\n",
    "\n",
    "while year != 2025:\n",
    "    year += 1\n",
    "    for season in seasons:\n",
    "        print(season,year, end=\" / \")\n",
    "else:\n",
    "    print(\"...\")\n",
    "\n",
    "    "
   ]
  },
  {
   "cell_type": "markdown",
   "id": "5f010120",
   "metadata": {},
   "source": [
    "### it.repeat()\n",
    "\n",
    "Este es simple. No le veo un gran uso realmente pero al menos sabes que existe.\n",
    "\n",
    "Puedo repetir cualquier datatype una cantidad determinada de veces. Por ejemplo, puedo repetir \"Python\" 10 veces. En el primer argumento le paso el dato a repetir, y en el segundo la cantidad de veces."
   ]
  },
  {
   "cell_type": "code",
   "execution_count": 95,
   "id": "df7f1c87",
   "metadata": {},
   "outputs": [
    {
     "name": "stdout",
     "output_type": "stream",
     "text": [
      "python python python python python python python python python python "
     ]
    }
   ],
   "source": [
    "# repeat - versión itertools\n",
    "times = 10\n",
    "\n",
    "for rep in it.repeat(\"python\",times):\n",
    "    print(rep, end=\" \")\n"
   ]
  },
  {
   "cell_type": "markdown",
   "id": "5a446bc0",
   "metadata": {},
   "source": [
    "También podría imitarlo con un iterable (no iterador) como una lista, o simplemente con un range()"
   ]
  },
  {
   "cell_type": "code",
   "execution_count": 100,
   "id": "5a3a0396",
   "metadata": {},
   "outputs": [
    {
     "name": "stdout",
     "output_type": "stream",
     "text": [
      "python python python python python python python python python python "
     ]
    }
   ],
   "source": [
    "# repeat - versión iterable\n",
    "for rep in [\"python\"]*times:\n",
    "    print(rep, end=\" \")"
   ]
  },
  {
   "cell_type": "code",
   "execution_count": 101,
   "id": "91fdb0b1",
   "metadata": {},
   "outputs": [
    {
     "name": "stdout",
     "output_type": "stream",
     "text": [
      "python python python python python python python python python python "
     ]
    }
   ],
   "source": [
    "# repeat - versión range\n",
    "for rep in range(times):\n",
    "    print(\"python\", end=\" \")\n"
   ]
  },
  {
   "cell_type": "markdown",
   "id": "3ef6aa58",
   "metadata": {},
   "source": [
    "# Más iteradores\n",
    "\n",
    "Acá creo que está lo más lindo de itertools porque muchos de estos son super útiles y ya conociendolos probablemente empieces a usarlos. Empecemos con \"chain\" para unir iteradores"
   ]
  },
  {
   "cell_type": "markdown",
   "id": "0fa6cdb5",
   "metadata": {},
   "source": [
    "### .chain()\n",
    "\n",
    "Chain nos sirve para enlazar iteradores, o \"encadenar\" si queres verlo traduciendolo al inglés. En vez de declarar dos ciclos for, uno para cada iterable, podemos fusionarlos y simplificar la cuestión.\n",
    "\n",
    "Es decir, podemos pasar de esto:"
   ]
  },
  {
   "cell_type": "code",
   "execution_count": 102,
   "id": "b7be2864",
   "metadata": {},
   "outputs": [
    {
     "name": "stdout",
     "output_type": "stream",
     "text": [
      "3 5 4 4 6 7 "
     ]
    }
   ],
   "source": [
    "first_list = [3,5,4]\n",
    "second_list = [4,6,7]\n",
    "\n",
    "for i in first_list:\n",
    "    print(i, end=\" \")\n",
    "    \n",
    "for i in second_list:\n",
    "    print(i, end=\" \")"
   ]
  },
  {
   "cell_type": "markdown",
   "id": "09cf77ff",
   "metadata": {},
   "source": [
    "... a algo mucho mejor:"
   ]
  },
  {
   "cell_type": "code",
   "execution_count": 105,
   "id": "32e7ce59",
   "metadata": {},
   "outputs": [
    {
     "name": "stdout",
     "output_type": "stream",
     "text": [
      "3 5 4 4 6 7 "
     ]
    }
   ],
   "source": [
    "#unir iterables - chain\n",
    "\n",
    "for i in it.chain(first_list, second_list):\n",
    "    print(i, end=\" \")\n",
    "\n"
   ]
  },
  {
   "cell_type": "markdown",
   "id": "d70d310d",
   "metadata": {},
   "source": [
    "Ahora, otra cosa que esta copada, es que podemos encapsular esos iterables dentro de una lista (que es otro iterable 😂) y recorrerlos como si fueran uno solo. Esto se logra llamando a \"from_iterable()\" dentro de chain. Ahora en vez de listas probemos con strings"
   ]
  },
  {
   "cell_type": "code",
   "execution_count": 20,
   "id": "7dafc7dc",
   "metadata": {},
   "outputs": [
    {
     "name": "stdout",
     "output_type": "stream",
     "text": [
      "P Y T H O N   I T E R T O O L S "
     ]
    }
   ],
   "source": [
    "# chain desde un iterable - chain.from_iterable\n",
    "\n",
    "super_list = [\"python \",\"itertools\"]\n",
    "\n",
    "for i in it.chain.from_iterable(super_list):\n",
    "    print(i.upper(), end=\" \")"
   ]
  },
  {
   "cell_type": "markdown",
   "id": "0ff37930",
   "metadata": {},
   "source": [
    "### .accumulate()\n",
    "\n",
    "Esta es genial. Cuando usamos variables cuya función es acumular saldos, podemos obviarlas ya que con accumulate podemos actualizar una variable de stock imaginaria con distitos flujos que pasamos como parametro.\n",
    "\n",
    "No se si me explico. Pensemos en los supuestos ingresos que tuve en años anteriores, algunos positivos y otros negativos. Si yo sé cual fue mi saldo inicial y tengo los distintos flujos o resultados que hubo por cada periodo, puedo obtener el saldo a cada periodo, y también con ello el saldo final.  "
   ]
  },
  {
   "cell_type": "code",
   "execution_count": 106,
   "id": "361aa7db",
   "metadata": {},
   "outputs": [
    {
     "name": "stdout",
     "output_type": "stream",
     "text": [
      "$1000 $2000 $3500 $3800 $3300 $4050 $4650 $3650 $3450 $3800 $4750 $2750 "
     ]
    }
   ],
   "source": [
    "# accumulate - versión itertools\n",
    "\n",
    "earnings = [1000,1500,300,-500,750,600,-1000,-200,350,950,-2000]\n",
    "\n",
    "for e in it.accumulate(earnings,initial=1000):\n",
    "    print(f'${e}', end=\" \")"
   ]
  },
  {
   "cell_type": "markdown",
   "id": "805a6911",
   "metadata": {},
   "source": [
    "Defino el \"saldo inicial\" como parametro del iterador y los flujos como primer argumento. Si yo quisiera tener el mismo resultado sin usar .accumulate() tendría que definir una variable de stock, como en este ejemplo, que el voy a poner \"rest\""
   ]
  },
  {
   "cell_type": "code",
   "execution_count": 111,
   "id": "5d9ecf93",
   "metadata": {},
   "outputs": [
    {
     "name": "stdout",
     "output_type": "stream",
     "text": [
      "$1000 $2000 $3500 $3800 $3300 $4050 $4650 $3650 $3450 $3800 $4750 $2750 "
     ]
    }
   ],
   "source": [
    "rest = 1000\n",
    "earnings = [1000,1500,300,-500,750,600,-1000,-200,350,950,-2000]\n",
    "\n",
    "print(f'${rest}', end=\" \")\n",
    "for e in earnings:\n",
    "    rest += e\n",
    "    print(f'${rest}', end=\" \")"
   ]
  },
  {
   "cell_type": "markdown",
   "id": "595b41ee",
   "metadata": {},
   "source": [
    "### .filterfalse()\n",
    "\n",
    "Con este empezamos con iteradores condicionales. Este es intuitivo. Lo que hace es recorrer el iterable y sólo reproducir la lógica del loop si el resultado de una función a definir NO se cumpla, es decir, devuelva False. Esta función podemos definirla aparte, pero si no es complicada podemos definirla en una línea en una función lambda.\n",
    "\n",
    "Por ejemplo, sigamos con la lista \"earnings\" del ejemplo anterior. Si quisiesemos filtrar los resultados negativos, deberíamos definir como primer parametro en .filterfalse() una simple función que devuelva false cuando el número sea negativo, de esta forma:"
   ]
  },
  {
   "cell_type": "code",
   "execution_count": 26,
   "id": "061bad92",
   "metadata": {},
   "outputs": [
    {
     "name": "stdout",
     "output_type": "stream",
     "text": [
      "$-500 $-1000 $-200 $-2000 "
     ]
    }
   ],
   "source": [
    "# filterfalse - versión itertools\n",
    "\n",
    "for e in it.filterfalse(lambda x: x >= 0, earnings):\n",
    "    print(f'${e}', end=\" \")"
   ]
  },
  {
   "cell_type": "markdown",
   "id": "0dfe60b9",
   "metadata": {},
   "source": [
    "No es más que una condición dentro de un loop, lo que equivale más o menos a esto"
   ]
  },
  {
   "cell_type": "code",
   "execution_count": null,
   "id": "34a416cd",
   "metadata": {},
   "outputs": [],
   "source": [
    "# loop\n",
    "for e in earnings: \n",
    "    # condición \n",
    "    if e x < 0: \n",
    "        print(f'${e}', end=\" \")"
   ]
  },
  {
   "cell_type": "markdown",
   "id": "0fa56757",
   "metadata": {},
   "source": [
    "### .dropwhile()\n",
    "\n",
    "Otro loop con condición. Pero en este caso, la función va a determinar cuando empieza a reproducir la lógica del loop. Como si tuviesemos una especie de switch, que empieza apagado. Cuando la función lambda devuelve false, el switch se enciende y la lógica se reproduce hasta el final. \n",
    "\n",
    "Siguiendo con el ejemplo que venimos viendo. Usando dropwhile, podemos obtener los flujos de fondos DESDE el primer false. Y ahí está la clave, en pensarlo como un \"desde\". "
   ]
  },
  {
   "cell_type": "code",
   "execution_count": 28,
   "id": "ba1298be",
   "metadata": {},
   "outputs": [
    {
     "name": "stdout",
     "output_type": "stream",
     "text": [
      "$-500 $750 $600 $-1000 $-200 $350 $950 $-2000 "
     ]
    }
   ],
   "source": [
    "# dropwhile - versión itertools\n",
    "\n",
    "for e in it.dropwhile(lambda x: x >= 0, earnings):\n",
    "    print(f'${e}', end=\" \")"
   ]
  },
  {
   "cell_type": "markdown",
   "id": "ec703a75",
   "metadata": {},
   "source": [
    "... lo que equivaldría a utilizar un switch de esta forma:"
   ]
  },
  {
   "cell_type": "code",
   "execution_count": 117,
   "id": "c9773c51",
   "metadata": {},
   "outputs": [
    {
     "name": "stdout",
     "output_type": "stream",
     "text": [
      "$-500 $750 $600 $-1000 $-200 $350 $950 $-2000 "
     ]
    }
   ],
   "source": [
    "# dropwhile - versión sintética\n",
    "\n",
    "switch = False\n",
    "for e in earnings:\n",
    "    if e < 0:\n",
    "        switch = True\n",
    "    if switch:\n",
    "        print(f'${e}', end=\" \")\n",
    "    "
   ]
  },
  {
   "cell_type": "markdown",
   "id": "ea30da95",
   "metadata": {},
   "source": [
    "### .takewhile()\n",
    "\n",
    "Si entendiste dropwhile, este también porque es literalmente lo contrario. Si en el ejemplo anterior decíamos que va a iterar DESDE que se cumpla el False, en takewhile(), el switch va a empezar prendido y va a iterar HASTA que se cumpla el primer false. Así:"
   ]
  },
  {
   "cell_type": "code",
   "execution_count": 29,
   "id": "2a56e3cf",
   "metadata": {},
   "outputs": [
    {
     "name": "stdout",
     "output_type": "stream",
     "text": [
      "$1000 $1500 $300 "
     ]
    }
   ],
   "source": [
    "# takewhile - versión itertools\n",
    "\n",
    "for e in it.takewhile(lambda x: x >= 0, earnings):\n",
    "    print(f'${e}', end=\" \")"
   ]
  },
  {
   "cell_type": "markdown",
   "id": "12a627b6",
   "metadata": {},
   "source": [
    "En este caso, el primer flujo negativo se da en el flujo 4, así que ahí se va a parar. Como podemos ver un takewhile más un dropwhile me da el iterable entero. Replicar el último caso es cambiar el estado de nuestro switch. En nativo:"
   ]
  },
  {
   "cell_type": "code",
   "execution_count": 120,
   "id": "35721b4b",
   "metadata": {},
   "outputs": [
    {
     "name": "stdout",
     "output_type": "stream",
     "text": [
      "$1000 $1500 $300 "
     ]
    }
   ],
   "source": [
    "# takewhile - versión sintética\n",
    "\n",
    "switch = True\n",
    "for e in earnings:\n",
    "    if e < 0:\n",
    "        switch = False\n",
    "    if switch:\n",
    "        print(f'${e}', end=\" \")"
   ]
  },
  {
   "cell_type": "markdown",
   "id": "7e67bc76",
   "metadata": {},
   "source": [
    "### .islice()\n",
    "\n",
    "Espantoso. Slice es cortar un pedazo de un iterable inicial, definiendo de donde empezar y en donde terminar. Pero eso ya lo podíamos hacer con las sublistas de Python de forma más fácil.\n",
    "\n",
    "Si venis de Javascript un golazo porque es parecido, pero no igual. Primer argumento el iterable, segundo desde donde comienza y tercer hasta donde va, definiendo así la porción "
   ]
  },
  {
   "cell_type": "code",
   "execution_count": 121,
   "id": "eb978b8e",
   "metadata": {},
   "outputs": [
    {
     "name": "stdout",
     "output_type": "stream",
     "text": [
      "300 -500 750 "
     ]
    }
   ],
   "source": [
    "# islice - versión itertools\n",
    "\n",
    "for e in it.islice(earnings,2,5):\n",
    "    print(e, end=\" \")"
   ]
  },
  {
   "cell_type": "markdown",
   "id": "f784a129",
   "metadata": {},
   "source": [
    "Pero incluso más fácil es"
   ]
  },
  {
   "cell_type": "code",
   "execution_count": 123,
   "id": "7c265ee8",
   "metadata": {
    "scrolled": true
   },
   "outputs": [
    {
     "name": "stdout",
     "output_type": "stream",
     "text": [
      "300 -500 750 "
     ]
    }
   ],
   "source": [
    "# islice - versión sintética\n",
    "\n",
    "for e in earnings[2:5]:\n",
    "    print(e, end=\" \")"
   ]
  },
  {
   "cell_type": "markdown",
   "id": "ade5db18",
   "metadata": {},
   "source": [
    "### .starmap()\n",
    "\n",
    "Este método nos permite hacer operaciones con tuplas desde itertools. Básicamente es un map. Desde la documentación aclaran \"Used instead of map() when argument parameters are already grouped in tuples from a single iterable (the data has been “pre-zipped”).\" así que es conveniente pasarlo en formato tupla.\n",
    "\n",
    "Pensemos en el top 5 de los países con más medallas de los últimos juegos olímpicos. Podemos definir listas con la cantidad de medallas de oro, plata y bronce respectivamente. Si quisiesemos saber cuantas medallas juntaron en total los 5 países, podemos utilizar la funcion map, pasando tuplas con la cantidad de medallas ganadas por todos los países separados por el tipo de medalla. Para eso, hacemos el zip de todas las listas, obteniendo tres tuplas de longitud 5 y las recorremos desde itertools. ¿Cómo funciona? Le aplicamos una funcion, en este caso la suma de todos los elementos, a cada tupla. Imprimimos y obtenemos:"
   ]
  },
  {
   "cell_type": "code",
   "execution_count": 126,
   "id": "049090a5",
   "metadata": {},
   "outputs": [
    {
     "name": "stdout",
     "output_type": "stream",
     "text": [
      "146 136 113 "
     ]
    }
   ],
   "source": [
    "# starmap - versión itertools\n",
    "\n",
    "eeuu = [39,41,33]\n",
    "china = [38,32,18]\n",
    "japon = [27,14,17]\n",
    "britain = [22,21,22]\n",
    "cor = [20,28,23]\n",
    "\n",
    "top5 = zip(eeuu,china,japon,britain,cor)\n",
    "\n",
    "for i in it.starmap(lambda *x: sum(x),top5):\n",
    "    print(i, end=\" \")\n"
   ]
  },
  {
   "cell_type": "markdown",
   "id": "418b8a40",
   "metadata": {},
   "source": [
    "### .compress()\n",
    "\n",
    "Este método puede ser interesante si trabajamos con matrices. Teniendo una lista de puros 1 y 0 en donde 1 es true y 0 es false (claro), podemos pasar un iterable cualquiera y la matriz en cuestion para definir si se entra en el loop o no. Claro que ambos iterables deben tener la misma longitud. Veamos:"
   ]
  },
  {
   "cell_type": "code",
   "execution_count": 48,
   "id": "4c50b564",
   "metadata": {},
   "outputs": [
    {
     "name": "stdout",
     "output_type": "stream",
     "text": [
      "i t e r t o o l s "
     ]
    }
   ],
   "source": [
    "# compress - versión itertools\n",
    "\n",
    "my_random_string = \"aitjkenrtdofols\"\n",
    "matrix = [0,1,1,0,0,1,0,1,1,0,1,0,1,1,1]\n",
    "\n",
    "for i in it.compress(my_random_string,matrix):\n",
    "    print(i, end=\" \")"
   ]
  },
  {
   "cell_type": "markdown",
   "id": "786dba33",
   "metadata": {},
   "source": [
    "En este caso, recorre ambos iterables en paralelo, ejecutando la lógica cuando en la matriz nos encontramos con un 1. Un ejemplo sintético podría ser el siguiente:"
   ]
  },
  {
   "cell_type": "code",
   "execution_count": 127,
   "id": "f5e93050",
   "metadata": {},
   "outputs": [
    {
     "name": "stdout",
     "output_type": "stream",
     "text": [
      "i t e r t o o l s "
     ]
    }
   ],
   "source": [
    "# compress - versión sintética\n",
    "\n",
    "for i in zip(matrix,my_random_string):\n",
    "    if i[0]:\n",
    "        print(i[1], end=\" \")"
   ]
  },
  {
   "cell_type": "markdown",
   "id": "e1556b7f",
   "metadata": {},
   "source": [
    "### .zip_longest()\n",
    "\n",
    "Este puede ser muy útil. A veces queremos utilizar un zip pero tenemos iterables de distinto orden. Con zip_longest podemos usarlo igual, estableciendo un valor por default en el caso de que un iterable, sea más corto que otro.\n",
    "\n",
    "Por ejemplo, tenemos dos listas de longitud 5 y 3. Si los juntamos de a pares en tuplas, nos quedan dos valores sin su par. En ese caso le asigna el par por defecto del atributo definido en \"fillvalue\""
   ]
  },
  {
   "cell_type": "code",
   "execution_count": 50,
   "id": "eb9be97b",
   "metadata": {},
   "outputs": [
    {
     "name": "stdout",
     "output_type": "stream",
     "text": [
      "(1, 'a'),(2, 'b'),(3, 'c'),(4, '?'),(5, '?'),"
     ]
    }
   ],
   "source": [
    "# zip_longest - primer caso\n",
    "\n",
    "numbers = [1,2,3,4,5]\n",
    "letters = [\"a\",\"b\",\"c\"]\n",
    "\n",
    "for comb in it.zip_longest(numbers,letters, fillvalue=\"?\"):\n",
    "    print(comb, end=\",\")"
   ]
  },
  {
   "cell_type": "markdown",
   "id": "83a42eeb",
   "metadata": {},
   "source": [
    "La asimetría puede darse del otro lado tambien. Si alargamos la variable letters y lo hacemos de longitud 9, nos quedarían los últimos 4 valores sin su par, al cual le asigna el valor por defecto de la misma forma. "
   ]
  },
  {
   "cell_type": "code",
   "execution_count": 51,
   "id": "9134b461",
   "metadata": {},
   "outputs": [
    {
     "name": "stdout",
     "output_type": "stream",
     "text": [
      "(1, 'a'),(2, 'b'),(3, 'c'),(4, 'd'),(5, 'e'),('?', 'f'),('?', 'g'),('?', 'h'),('?', 'i'),"
     ]
    }
   ],
   "source": [
    "letters.extend([\"d\",\"e\",\"f\",\"g\",\"h\",\"i\"])\n",
    "\n",
    "for comb in it.zip_longest(numbers,letters, fillvalue=\"?\"):\n",
    "    print(comb, end=\",\")"
   ]
  },
  {
   "cell_type": "markdown",
   "id": "303d83bc",
   "metadata": {},
   "source": [
    "# Combinatioria\n",
    "\n",
    "### Producto"
   ]
  },
  {
   "cell_type": "code",
   "execution_count": 73,
   "id": "5cda5517",
   "metadata": {
    "scrolled": true
   },
   "outputs": [
    {
     "name": "stdout",
     "output_type": "stream",
     "text": [
      "Hay 25 formas de combinar 5 elementos:\n",
      "('A', 'A') ('A', 'B') ('A', 'C') ('A', 'D') ('A', 'E') ('B', 'A') ('B', 'B') ('B', 'C') ('B', 'D') ('B', 'E') ('C', 'A') ('C', 'B') ('C', 'C') ('C', 'D') ('C', 'E') ('D', 'A') ('D', 'B') ('D', 'C') ('D', 'D') ('D', 'E') ('E', 'A') ('E', 'B') ('E', 'C') ('E', 'D') ('E', 'E') \n"
     ]
    }
   ],
   "source": [
    "# Product\n",
    "\n",
    "subjects = [\"A\",\"B\",\"C\",\"D\",\"E\"]\n",
    "iterator = it.product(subjects,repeat=2)\n",
    "len_iterator = len(list(it.product(subjects,repeat=2)))\n",
    "\n",
    "print(f'Hay {len_iterator} formas de combinar {len(subjects)} elementos de a pares:')\n",
    "\n",
    "for way in iterator:\n",
    "    print(way, end=\" \")\n",
    "    "
   ]
  },
  {
   "cell_type": "markdown",
   "id": "76d276b0",
   "metadata": {},
   "source": [
    "### Combinaciones sin repetición"
   ]
  },
  {
   "cell_type": "code",
   "execution_count": 74,
   "id": "ebcf4422",
   "metadata": {},
   "outputs": [
    {
     "name": "stdout",
     "output_type": "stream",
     "text": [
      "Hay 10 formas de combinar 2 de 5 elementos sin repetir y sin importar el orden:\n",
      "('A', 'B') ('A', 'C') ('A', 'D') ('A', 'E') ('B', 'C') ('B', 'D') ('B', 'E') ('C', 'D') ('C', 'E') ('D', 'E') "
     ]
    }
   ],
   "source": [
    "# Combinations without replacement\n",
    "\n",
    "subjects = [\"A\",\"B\",\"C\",\"D\",\"E\"]\n",
    "exams = 2\n",
    "iterator = it.combinations(subjects,exams)\n",
    "len_iterator = len(list(it.combinations(subjects,exams)))\n",
    "\n",
    "print(f'Hay {len_iterator} formas de combinar {exams} de {len(subjects)} elementos sin repetir y sin importar el orden:')\n",
    "\n",
    "for way in iterator:\n",
    "    print(way, end=\" \")"
   ]
  },
  {
   "cell_type": "markdown",
   "id": "04ccfd75",
   "metadata": {},
   "source": [
    "### Variaciones sin repetición"
   ]
  },
  {
   "cell_type": "code",
   "execution_count": 76,
   "id": "84be19d2",
   "metadata": {},
   "outputs": [
    {
     "name": "stdout",
     "output_type": "stream",
     "text": [
      "Hay 20 formas de combinar 5 elementos:\n",
      "('A', 'B') ('A', 'C') ('A', 'D') ('A', 'E') ('B', 'A') ('B', 'C') ('B', 'D') ('B', 'E') ('C', 'A') ('C', 'B') ('C', 'D') ('C', 'E') ('D', 'A') ('D', 'B') ('D', 'C') ('D', 'E') ('E', 'A') ('E', 'B') ('E', 'C') ('E', 'D') "
     ]
    }
   ],
   "source": [
    "# \"Permutations\" - Variations without replacement\n",
    "\n",
    "subjects = [\"A\",\"B\",\"C\",\"D\",\"E\"]\n",
    "iterator = it.permutations(subjects,2)\n",
    "len_iterator = len(list(it.permutations(subjects,2)))\n",
    "\n",
    "print(f'Hay {len_iterator} formas de combinar {len(subjects)} elementos:')\n",
    "\n",
    "for way in iterator:\n",
    "    print(way, end=\" \")\n",
    "    "
   ]
  }
 ],
 "metadata": {
  "kernelspec": {
   "display_name": "Python 3",
   "language": "python",
   "name": "python3"
  },
  "language_info": {
   "codemirror_mode": {
    "name": "ipython",
    "version": 3
   },
   "file_extension": ".py",
   "mimetype": "text/x-python",
   "name": "python",
   "nbconvert_exporter": "python",
   "pygments_lexer": "ipython3",
   "version": "3.8.8"
  }
 },
 "nbformat": 4,
 "nbformat_minor": 5
}
