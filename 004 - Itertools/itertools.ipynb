{
 "cells": [
  {
   "cell_type": "markdown",
   "id": "2e37002f",
   "metadata": {},
   "source": [
    "# Itertools\n",
    "\n",
    "Itertools es una librería nativa de Python que permite crear y gestionar iteradores de una forma muy sencilla e intuitiva. Probablemente lo hayas visto en algún que otro código Python, pero en este post voy a tratar de explicar una por una cada método e intentar replicar lo que está pasando por atrás cada vez que invocamos alguna de esas funciones. Podemos encontrar iteradores infinitos, módulos de combinatoria e incluso iteradores con condicionales. Van a cansarse de ver \"for\" por todo este post pero por suerte no es nada complicado.\n"
   ]
  },
  {
   "cell_type": "markdown",
   "id": "0adb242f",
   "metadata": {},
   "source": [
    "La idea es seguir el orden que se encuentra en la documentación, así que si hay alguna duda podes consultarla [aquí](https://docs.python.org/3/library/itertools.html).\n",
    "\n",
    "Importamos el módulo y empezamos"
   ]
  },
  {
   "cell_type": "code",
   "execution_count": 19,
   "id": "6b05d09c",
   "metadata": {},
   "outputs": [],
   "source": [
    "import itertools as it"
   ]
  },
  {
   "cell_type": "markdown",
   "id": "9b69d613",
   "metadata": {},
   "source": [
    "# Iteradores infinitos\n",
    "Estos pueden ser super útiles, pero hay que tener cuidado de establecer una condición para salir del loop porque sino itera literalmente hasta el infinito, como si fuera un \"while True\", por eso asegurense de meter un \"break\" en algún momento"
   ]
  },
  {
   "cell_type": "markdown",
   "id": "27c67b6a",
   "metadata": {},
   "source": [
    "### it.count()\n",
    "\n",
    "En este método declaras desde donde empieza a iterar (start) y de a cuanto va a saltar de iteración en iteración (step). ¿Hasta cuando? hasta que le pares el carro. Por ejemplo, podemos imprimir los números impares, pero como no queremos que siga hasta el infinito, podemos salir del loop antes de que llegue al número 100. De esta forma:\n"
   ]
  },
  {
   "cell_type": "code",
   "execution_count": 14,
   "id": "7b6d538d",
   "metadata": {},
   "outputs": [
    {
     "name": "stdout",
     "output_type": "stream",
     "text": [
      "1 3 5 7 9 11 13 15 17 19 21 23 25 27 29 31 33 35 37 39 41 43 45 47 49 51 53 55 57 59 61 63 65 67 69 71 73 75 77 79 81 83 85 87 89 91 93 95 97 99 "
     ]
    }
   ],
   "source": [
    "#count - versión itertools\n",
    "for even in it.count(start=1,step=2):\n",
    "    if even > 100:\n",
    "        break\n",
    "    print(even, end=\" \")\n",
    "    "
   ]
  },
  {
   "cell_type": "markdown",
   "id": "b469c946",
   "metadata": {},
   "source": [
    "... lo que podría replicarse con un while como:"
   ]
  },
  {
   "cell_type": "code",
   "execution_count": 84,
   "id": "5d9f33f1",
   "metadata": {},
   "outputs": [
    {
     "name": "stdout",
     "output_type": "stream",
     "text": [
      "1 3 5 7 9 11 13 15 17 19 21 23 25 27 29 31 33 35 37 39 41 43 45 47 49 51 53 55 57 59 61 63 65 67 69 71 73 75 77 79 81 83 85 87 89 91 93 95 97 99 "
     ]
    }
   ],
   "source": [
    "even = 1\n",
    "while even < 100:\n",
    "    print(even, end=\" \")\n",
    "    even += 2\n",
    "    "
   ]
  },
  {
   "cell_type": "markdown",
   "id": "c0bd47c8",
   "metadata": {},
   "source": [
    "### it.cycle()\n",
    "\n",
    "Cycle va a recorrer un iterable y al llegar al final, empezar de nuevo, así infinitamente.\n",
    "\n",
    "Imaginemos que queremos printear las estaciones de los próximos 5 años.\n",
    "Lo que podríamos hacer es definir las estaciones una vez y volverla a recorrer hasta que pasen esos 5 años:"
   ]
  },
  {
   "cell_type": "code",
   "execution_count": 93,
   "id": "61a829a4",
   "metadata": {},
   "outputs": [
    {
     "name": "stdout",
     "output_type": "stream",
     "text": [
      "Autumn 2020 / Winter 2020 / Spring 2020 / Summer 2020 / Autumn 2021 / Winter 2021 / Spring 2021 / Summer 2021 / Autumn 2022 / Winter 2022 / Spring 2022 / Summer 2022 / Autumn 2023 / Winter 2023 / Spring 2023 / Summer 2023 / Autumn 2024 / Winter 2024 / Spring 2024 / Summer 2024 / Autumn 2025 / Winter 2025 / Spring 2025 / Summer 2025 / ...\n"
     ]
    }
   ],
   "source": [
    "#cycle - versión itertools\n",
    "seasons = [\"Autumn\",\"Winter\",\"Spring\",\"Summer\"]\n",
    "year = 2020\n",
    "\n",
    "for season in it.cycle(seasons):\n",
    "    print(season,year, end=\" / \")\n",
    "    if season == \"Summer\":\n",
    "        if year == 2025:\n",
    "            print(\"...\")\n",
    "            break\n",
    "        year += 1\n",
    "    \n",
    "    "
   ]
  },
  {
   "cell_type": "markdown",
   "id": "cac31100",
   "metadata": {},
   "source": [
    "Como vemos, it.cycle() va a iterar hasta \"Summer\" y como es un iterador infinito, va a empezar por \"Autumn\" de nuevo. Entonces, lo que hice es sumar un año en cada vuelta, chequeando si se llegó al 2025. De ser así, es el momento de salir del loop. Una version usando un ciclo while podría ser:"
   ]
  },
  {
   "cell_type": "code",
   "execution_count": 94,
   "id": "6a04f3c2",
   "metadata": {},
   "outputs": [
    {
     "name": "stdout",
     "output_type": "stream",
     "text": [
      "Autumn 2020 / Winter 2020 / Spring 2020 / Summer 2020 / Autumn 2021 / Winter 2021 / Spring 2021 / Summer 2021 / Autumn 2022 / Winter 2022 / Spring 2022 / Summer 2022 / Autumn 2023 / Winter 2023 / Spring 2023 / Summer 2023 / Autumn 2024 / Winter 2024 / Spring 2024 / Summer 2024 / Autumn 2025 / Winter 2025 / Spring 2025 / Summer 2025 / ...\n"
     ]
    }
   ],
   "source": [
    "year = 2019\n",
    "\n",
    "while year != 2025:\n",
    "    year += 1\n",
    "    for season in seasons:\n",
    "        print(season,year, end=\" / \")\n",
    "else:\n",
    "    print(\"...\")\n",
    "\n",
    "    "
   ]
  },
  {
   "cell_type": "markdown",
   "id": "5f010120",
   "metadata": {},
   "source": [
    "### it.repeat()\n",
    "\n",
    "Este es simple. No le veo un gran uso realmente pero al menos sabes que existe.\n",
    "\n",
    "Puedo repetir cualquier datatype una cantidad determinada de veces. Por ejemplo, puedo repetir \"Python\" 10 veces. En el primer argumento le paso el dato a repetir, y en el segundo la cantidad de veces."
   ]
  },
  {
   "cell_type": "code",
   "execution_count": 95,
   "id": "df7f1c87",
   "metadata": {},
   "outputs": [
    {
     "name": "stdout",
     "output_type": "stream",
     "text": [
      "python python python python python python python python python python "
     ]
    }
   ],
   "source": [
    "# repeat - versión itertools\n",
    "times = 10\n",
    "\n",
    "for rep in it.repeat(\"python\",times):\n",
    "    print(rep, end=\" \")\n"
   ]
  },
  {
   "cell_type": "markdown",
   "id": "5a446bc0",
   "metadata": {},
   "source": [
    "También podría imitarlo con un iterable (no iterador) como una lista, o simplemente con un range()"
   ]
  },
  {
   "cell_type": "code",
   "execution_count": 100,
   "id": "5a3a0396",
   "metadata": {},
   "outputs": [
    {
     "name": "stdout",
     "output_type": "stream",
     "text": [
      "python python python python python python python python python python "
     ]
    }
   ],
   "source": [
    "# repeat - versión iterable\n",
    "for rep in [\"python\"]*times:\n",
    "    print(rep, end=\" \")"
   ]
  },
  {
   "cell_type": "code",
   "execution_count": 101,
   "id": "91fdb0b1",
   "metadata": {},
   "outputs": [
    {
     "name": "stdout",
     "output_type": "stream",
     "text": [
      "python python python python python python python python python python "
     ]
    }
   ],
   "source": [
    "# repeat - versión range\n",
    "for rep in range(times):\n",
    "    print(\"python\", end=\" \")\n"
   ]
  },
  {
   "cell_type": "markdown",
   "id": "3ef6aa58",
   "metadata": {},
   "source": [
    "# Más iteradores\n",
    "\n",
    "Acá creo que está lo más lindo de itertools porque muchos de estos son super útiles y ya conociendolos probablemente empieces a usarlos. Empecemos con \"chain\" para unir iteradores"
   ]
  },
  {
   "cell_type": "markdown",
   "id": "0fa6cdb5",
   "metadata": {},
   "source": [
    "### .chain()\n",
    "\n",
    "Chain nos sirve para enlazar iteradores, o \"encadenar\" si queres verlo traduciendolo al inglés. En vez de declarar dos ciclos for, uno para cada iterable, podemos fusionarlos y simplificar la cuestión.\n",
    "\n",
    "Es decir, podemos pasar de esto:"
   ]
  },
  {
   "cell_type": "code",
   "execution_count": 102,
   "id": "b7be2864",
   "metadata": {},
   "outputs": [
    {
     "name": "stdout",
     "output_type": "stream",
     "text": [
      "3 5 4 4 6 7 "
     ]
    }
   ],
   "source": [
    "first_list = [3,5,4]\n",
    "second_list = [4,6,7]\n",
    "\n",
    "for i in first_list:\n",
    "    print(i, end=\" \")\n",
    "    \n",
    "for i in second_list:\n",
    "    print(i, end=\" \")"
   ]
  },
  {
   "cell_type": "markdown",
   "id": "09cf77ff",
   "metadata": {},
   "source": [
    "... a algo mucho mejor:"
   ]
  },
  {
   "cell_type": "code",
   "execution_count": 105,
   "id": "32e7ce59",
   "metadata": {},
   "outputs": [
    {
     "name": "stdout",
     "output_type": "stream",
     "text": [
      "3 5 4 4 6 7 "
     ]
    }
   ],
   "source": [
    "#unir iterables - chain\n",
    "\n",
    "for i in it.chain(first_list, second_list):\n",
    "    print(i, end=\" \")\n",
    "\n"
   ]
  },
  {
   "cell_type": "markdown",
   "id": "d70d310d",
   "metadata": {},
   "source": [
    "Ahora, otra cosa que esta copada, es que podemos encapsular esos iterables dentro de una lista (que es otro iterable 😂) y recorrerlos como si fueran uno solo. Esto se logra llamando a \"from_iterable()\" dentro de chain. Ahora en vez de listas probemos con strings"
   ]
  },
  {
   "cell_type": "code",
   "execution_count": 20,
   "id": "7dafc7dc",
   "metadata": {},
   "outputs": [
    {
     "name": "stdout",
     "output_type": "stream",
     "text": [
      "P Y T H O N   I T E R T O O L S "
     ]
    }
   ],
   "source": [
    "# chain desde un iterable - chain.from_iterable\n",
    "\n",
    "super_list = [\"python \",\"itertools\"]\n",
    "\n",
    "for i in it.chain.from_iterable(super_list):\n",
    "    print(i.upper(), end=\" \")"
   ]
  },
  {
   "cell_type": "markdown",
   "id": "0ff37930",
   "metadata": {},
   "source": [
    "### .accumulate()\n",
    "\n",
    "Esta es genial. Cuando usamos variables cuya función es acumular saldos, podemos obviarlas ya que con accumulate podemos actualizar una variable de stock imaginaria con distitos flujos que pasamos como parametro.\n",
    "\n",
    "No se si me explico. Pensemos en los supuestos ingresos que tuve en años anteriores, algunos positivos y otros negativos. Si yo sé cual fue mi saldo inicial y tengo los distintos flujos o resultados que hubo por cada periodo, puedo obtener el saldo a cada periodo, y también con ello el saldo final.  "
   ]
  },
  {
   "cell_type": "code",
   "execution_count": 106,
   "id": "361aa7db",
   "metadata": {},
   "outputs": [
    {
     "name": "stdout",
     "output_type": "stream",
     "text": [
      "$1000 $2000 $3500 $3800 $3300 $4050 $4650 $3650 $3450 $3800 $4750 $2750 "
     ]
    }
   ],
   "source": [
    "# accumulate - versión itertools\n",
    "\n",
    "earnings = [1000,1500,300,-500,750,600,-1000,-200,350,950,-2000]\n",
    "\n",
    "for e in it.accumulate(earnings,initial=1000):\n",
    "    print(f'${e}', end=\" \")"
   ]
  },
  {
   "cell_type": "markdown",
   "id": "805a6911",
   "metadata": {},
   "source": [
    "Defino el \"saldo inicial\" como parametro del iterador y los flujos como primer argumento. Si yo quisiera tener el mismo resultado sin usar .accumulate() tendría que definir una variable de stock, como en este ejemplo, que el voy a poner \"rest\""
   ]
  },
  {
   "cell_type": "code",
   "execution_count": 111,
   "id": "5d9ecf93",
   "metadata": {},
   "outputs": [
    {
     "name": "stdout",
     "output_type": "stream",
     "text": [
      "$1000 $2000 $3500 $3800 $3300 $4050 $4650 $3650 $3450 $3800 $4750 $2750 "
     ]
    }
   ],
   "source": [
    "rest = 1000\n",
    "earnings = [1000,1500,300,-500,750,600,-1000,-200,350,950,-2000]\n",
    "\n",
    "print(f'${rest}', end=\" \")\n",
    "for e in earnings:\n",
    "    rest += e\n",
    "    print(f'${rest}', end=\" \")"
   ]
  },
  {
   "cell_type": "markdown",
   "id": "595b41ee",
   "metadata": {},
   "source": [
    "### .filterfalse()\n",
    "\n",
    "Con este empezamos con iteradores condicionales. Este es intuitivo. Lo que hace es recorrer el iterable y sólo reproducir la lógica del loop si el resultado de una función a definir NO se cumpla, es decir, devuelva False. Esta función podemos definirla aparte, pero si no es complicada podemos definirla en una línea en una función lambda.\n",
    "\n",
    "Por ejemplo, sigamos con la lista \"earnings\" del ejemplo anterior. Si quisiesemos filtrar los resultados negativos, deberíamos definir como primer parametro en .filterfalse() una simple función que devuelva false cuando el número sea negativo, de esta forma:"
   ]
  },
  {
   "cell_type": "code",
   "execution_count": 26,
   "id": "061bad92",
   "metadata": {},
   "outputs": [
    {
     "name": "stdout",
     "output_type": "stream",
     "text": [
      "$-500 $-1000 $-200 $-2000 "
     ]
    }
   ],
   "source": [
    "# filterfalse - versión itertools\n",
    "\n",
    "for e in it.filterfalse(lambda x: x >= 0, earnings):\n",
    "    print(f'${e}', end=\" \")"
   ]
  },
  {
   "cell_type": "markdown",
   "id": "0dfe60b9",
   "metadata": {},
   "source": [
    "No es más que una condición dentro de un loop, lo que equivale más o menos a esto"
   ]
  },
  {
   "cell_type": "code",
   "execution_count": null,
   "id": "34a416cd",
   "metadata": {},
   "outputs": [],
   "source": [
    "# loop\n",
    "for e in earnings: \n",
    "    # condición \n",
    "    if e x < 0: \n",
    "        print(f'${e}', end=\" \")"
   ]
  },
  {
   "cell_type": "markdown",
   "id": "0fa56757",
   "metadata": {},
   "source": [
    "### .dropwhile()\n",
    "\n",
    "Otro loop con condición. Pero en este caso, la función va a determinar cuando empieza a reproducir la lógica del loop. Como si tuviesemos una especie de switch, que empieza apagado. Cuando la función lambda devuelve false, el switch se enciende y la lógica se reproduce hasta el final. \n",
    "\n",
    "Siguiendo con el ejemplo que venimos viendo. Usando dropwhile, podemos obtener los flujos de fondos DESDE el primer false. Y ahí está la clave, en pensarlo como un \"desde\". "
   ]
  },
  {
   "cell_type": "code",
   "execution_count": 28,
   "id": "ba1298be",
   "metadata": {},
   "outputs": [
    {
     "name": "stdout",
     "output_type": "stream",
     "text": [
      "$-500 $750 $600 $-1000 $-200 $350 $950 $-2000 "
     ]
    }
   ],
   "source": [
    "# dropwhile - versión itertools\n",
    "\n",
    "for e in it.dropwhile(lambda x: x >= 0, earnings):\n",
    "    print(f'${e}', end=\" \")"
   ]
  },
  {
   "cell_type": "markdown",
   "id": "ec703a75",
   "metadata": {},
   "source": [
    "... lo que equivaldría a utilizar un switch de esta forma:"
   ]
  },
  {
   "cell_type": "code",
   "execution_count": 117,
   "id": "c9773c51",
   "metadata": {},
   "outputs": [
    {
     "name": "stdout",
     "output_type": "stream",
     "text": [
      "$-500 $750 $600 $-1000 $-200 $350 $950 $-2000 "
     ]
    }
   ],
   "source": [
    "# dropwhile - versión sintética\n",
    "\n",
    "switch = False\n",
    "for e in earnings:\n",
    "    if e < 0:\n",
    "        switch = True\n",
    "    if switch:\n",
    "        print(f'${e}', end=\" \")\n",
    "    "
   ]
  },
  {
   "cell_type": "markdown",
   "id": "ea30da95",
   "metadata": {},
   "source": [
    "### .takewhile()\n",
    "\n",
    "Si entendiste dropwhile, este también porque es literalmente lo contrario. Si en el ejemplo anterior decíamos que va a iterar DESDE que se cumpla el False, en takewhile(), el switch va a empezar prendido y va a iterar HASTA que se cumpla el primer false. Así:"
   ]
  },
  {
   "cell_type": "code",
   "execution_count": 29,
   "id": "2a56e3cf",
   "metadata": {},
   "outputs": [
    {
     "name": "stdout",
     "output_type": "stream",
     "text": [
      "$1000 $1500 $300 "
     ]
    }
   ],
   "source": [
    "# takewhile - versión itertools\n",
    "\n",
    "for e in it.takewhile(lambda x: x >= 0, earnings):\n",
    "    print(f'${e}', end=\" \")"
   ]
  },
  {
   "cell_type": "markdown",
   "id": "12a627b6",
   "metadata": {},
   "source": [
    "En este caso, el primer flujo negativo se da en el flujo 4, así que ahí se va a parar. Como podemos ver un takewhile más un dropwhile me da el iterable entero. Replicar el último caso es cambiar el estado de nuestro switch. En nativo:"
   ]
  },
  {
   "cell_type": "code",
   "execution_count": 120,
   "id": "35721b4b",
   "metadata": {},
   "outputs": [
    {
     "name": "stdout",
     "output_type": "stream",
     "text": [
      "$1000 $1500 $300 "
     ]
    }
   ],
   "source": [
    "# takewhile - versión sintética\n",
    "\n",
    "switch = True\n",
    "for e in earnings:\n",
    "    if e < 0:\n",
    "        switch = False\n",
    "    if switch:\n",
    "        print(f'${e}', end=\" \")"
   ]
  },
  {
   "cell_type": "markdown",
   "id": "7e67bc76",
   "metadata": {},
   "source": [
    "### .islice()\n",
    "\n",
    "Espantoso. Slice es cortar un pedazo de un iterable inicial, definiendo de donde empezar y en donde terminar. Pero eso ya lo podíamos hacer con las sublistas de Python de forma más fácil.\n",
    "\n",
    "Si venis de Javascript un golazo porque es parecido, pero no igual. Primer argumento el iterable, segundo desde donde comienza y tercer hasta donde va, definiendo así la porción "
   ]
  },
  {
   "cell_type": "code",
   "execution_count": 121,
   "id": "eb978b8e",
   "metadata": {},
   "outputs": [
    {
     "name": "stdout",
     "output_type": "stream",
     "text": [
      "300 -500 750 "
     ]
    }
   ],
   "source": [
    "# islice - versión itertools\n",
    "\n",
    "for e in it.islice(earnings,2,5):\n",
    "    print(e, end=\" \")"
   ]
  },
  {
   "cell_type": "markdown",
   "id": "f784a129",
   "metadata": {},
   "source": [
    "Pero incluso más fácil es"
   ]
  },
  {
   "cell_type": "code",
   "execution_count": 123,
   "id": "7c265ee8",
   "metadata": {
    "scrolled": true
   },
   "outputs": [
    {
     "name": "stdout",
     "output_type": "stream",
     "text": [
      "300 -500 750 "
     ]
    }
   ],
   "source": [
    "# islice - versión sintética\n",
    "\n",
    "for e in earnings[2:5]:\n",
    "    print(e, end=\" \")"
   ]
  },
  {
   "cell_type": "markdown",
   "id": "ade5db18",
   "metadata": {},
   "source": [
    "### .starmap()\n",
    "\n",
    "Este método nos permite hacer operaciones con tuplas desde itertools. Básicamente es un map. Desde la documentación aclaran \"Used instead of map() when argument parameters are already grouped in tuples from a single iterable (the data has been “pre-zipped”).\" así que es conveniente pasarlo en formato tupla.\n",
    "\n",
    "Pensemos en el top 5 de los países con más medallas de los últimos juegos olímpicos. Podemos definir listas con la cantidad de medallas de oro, plata y bronce respectivamente. Si quisiesemos saber cuantas medallas juntaron en total los 5 países, podemos utilizar la funcion map, pasando tuplas con la cantidad de medallas ganadas por todos los países separados por el tipo de medalla. Para eso, hacemos el zip de todas las listas, obteniendo tres tuplas de longitud 5 y las recorremos desde itertools. ¿Cómo funciona? Le aplicamos una funcion, en este caso la suma de todos los elementos, a cada tupla. Imprimimos y obtenemos:"
   ]
  },
  {
   "cell_type": "code",
   "execution_count": 126,
   "id": "049090a5",
   "metadata": {},
   "outputs": [
    {
     "name": "stdout",
     "output_type": "stream",
     "text": [
      "146 136 113 "
     ]
    }
   ],
   "source": [
    "# starmap - versión itertools\n",
    "\n",
    "eeuu = [39,41,33]\n",
    "china = [38,32,18]\n",
    "japon = [27,14,17]\n",
    "britain = [22,21,22]\n",
    "cor = [20,28,23]\n",
    "\n",
    "top5 = zip(eeuu,china,japon,britain,cor)\n",
    "\n",
    "for i in it.starmap(lambda *x: sum(x),top5):\n",
    "    print(i, end=\" \")\n"
   ]
  },
  {
   "cell_type": "markdown",
   "id": "418b8a40",
   "metadata": {},
   "source": [
    "### .compress()\n",
    "\n",
    "Este método puede ser interesante si trabajamos con matrices. Teniendo una lista de puros 1 y 0 en donde 1 es true y 0 es false (claro), podemos pasar un iterable cualquiera y la matriz en cuestion para definir si se entra en el loop o no. Claro que ambos iterables deben tener la misma longitud. Veamos:"
   ]
  },
  {
   "cell_type": "code",
   "execution_count": 48,
   "id": "4c50b564",
   "metadata": {},
   "outputs": [
    {
     "name": "stdout",
     "output_type": "stream",
     "text": [
      "i t e r t o o l s "
     ]
    }
   ],
   "source": [
    "# compress - versión itertools\n",
    "\n",
    "my_random_string = \"aitjkenrtdofols\"\n",
    "matrix = [0,1,1,0,0,1,0,1,1,0,1,0,1,1,1]\n",
    "\n",
    "for i in it.compress(my_random_string,matrix):\n",
    "    print(i, end=\" \")"
   ]
  },
  {
   "cell_type": "markdown",
   "id": "786dba33",
   "metadata": {},
   "source": [
    "En este caso, recorre ambos iterables en paralelo, ejecutando la lógica cuando en la matriz nos encontramos con un 1. Un ejemplo sintético podría ser el siguiente:"
   ]
  },
  {
   "cell_type": "code",
   "execution_count": 127,
   "id": "f5e93050",
   "metadata": {},
   "outputs": [
    {
     "name": "stdout",
     "output_type": "stream",
     "text": [
      "i t e r t o o l s "
     ]
    }
   ],
   "source": [
    "# compress - versión sintética\n",
    "\n",
    "for i in zip(matrix,my_random_string):\n",
    "    if i[0]:\n",
    "        print(i[1], end=\" \")"
   ]
  },
  {
   "cell_type": "markdown",
   "id": "e1556b7f",
   "metadata": {},
   "source": [
    "### .zip_longest()\n",
    "\n",
    "Este puede ser muy útil. A veces queremos utilizar un zip pero tenemos iterables de distinto orden. Con zip_longest podemos usarlo igual, estableciendo un valor por default en el caso de que un iterable, sea más corto que otro.\n",
    "\n",
    "Por ejemplo, tenemos dos listas de longitud 5 y 3. Si los juntamos de a pares en tuplas, nos quedan dos valores sin su par. En ese caso le asigna el par por defecto del atributo definido en \"fillvalue\""
   ]
  },
  {
   "cell_type": "code",
   "execution_count": 50,
   "id": "eb9be97b",
   "metadata": {},
   "outputs": [
    {
     "name": "stdout",
     "output_type": "stream",
     "text": [
      "(1, 'a'),(2, 'b'),(3, 'c'),(4, '?'),(5, '?'),"
     ]
    }
   ],
   "source": [
    "# zip_longest - primer caso\n",
    "\n",
    "numbers = [1,2,3,4,5]\n",
    "letters = [\"a\",\"b\",\"c\"]\n",
    "\n",
    "for comb in it.zip_longest(numbers,letters, fillvalue=\"?\"):\n",
    "    print(comb, end=\",\")"
   ]
  },
  {
   "cell_type": "markdown",
   "id": "83a42eeb",
   "metadata": {},
   "source": [
    "La asimetría puede darse del otro lado tambien. Si alargamos la variable letters y lo hacemos de longitud 9, nos quedarían los últimos 4 valores sin su par, al cual le asigna el valor por defecto de la misma forma. "
   ]
  },
  {
   "cell_type": "code",
   "execution_count": 51,
   "id": "9134b461",
   "metadata": {
    "scrolled": true
   },
   "outputs": [
    {
     "name": "stdout",
     "output_type": "stream",
     "text": [
      "(1, 'a'),(2, 'b'),(3, 'c'),(4, 'd'),(5, 'e'),('?', 'f'),('?', 'g'),('?', 'h'),('?', 'i'),"
     ]
    }
   ],
   "source": [
    "letters.extend([\"d\",\"e\",\"f\",\"g\",\"h\",\"i\"])\n",
    "\n",
    "for comb in it.zip_longest(numbers,letters, fillvalue=\"?\"):\n",
    "    print(comb, end=\",\")"
   ]
  },
  {
   "cell_type": "markdown",
   "id": "8770726d",
   "metadata": {},
   "source": [
    "# Combinatioria\n",
    "\n",
    "Entramos en un lindo terreno. Yo creo que es lo mejor que tiene itertools por el laburo que te ahorra si necesitas meterte en análisis combinatorio. Vamos a ver las cuatro funciones que nos brinda y como replicarlas, para ir entendiendo que vamos haciendo... pero si estás apurado con el primer frame de cada método ya estás listo 😎\n",
    "\n",
    "El análisis combinatorio estudia las distintas formas de agrupar y ordenar los elementos de un conjunto, sin tener en cuenta la naturaleza de estos mismos. Los problemas de arreglos y combinaciones pueden parecer aburridos y quizá se piense que no tienen utilidad pero los teoremas del análisis combinatorio son la base del cálculo de la probabilidad y en Python se utilizan un montón."
   ]
  },
  {
   "cell_type": "markdown",
   "id": "303d83bc",
   "metadata": {},
   "source": [
    "### Producto - Variaciones con repetición\n",
    "\n",
    "Imaginemos que queremos pintar la pared de la pieza y para eso voy a necesitar 20 litros de pintura. Voy a la pinturería y me encuentro con que tienen 5 colores, pero venden baldes de 10 litros. Genial. Puedo llevar dos baldes y mezclar colores si así lo quisiese. O quizás no, y me mantenga firme en comprar dos baldes iguales. Sea lo que sea, podemos mezclar todas las opciones de baldes entre sí. De un conjunto de m elementos, elejimos solo n elementos (n < m) pudiendo repetirse. Son variaciones con repeticion, o simplemente producto, ya que se calculan de la forma: **m^n** (5^2)\n",
    "\n",
    "Para eso vamos a usar el método .product() de itertools, en el cual pasamos la lista de posibilidades en el primer argumentos y definimos repeat como la cantidad de elementos a escoger. m y n respectivamente.\n"
   ]
  },
  {
   "cell_type": "code",
   "execution_count": 67,
   "id": "5cda5517",
   "metadata": {
    "scrolled": false
   },
   "outputs": [
    {
     "name": "stdout",
     "output_type": "stream",
     "text": [
      "Hay 25 formas de combinar 5 colores de a pares:\n",
      "('blue', 'blue') ('blue', 'yellow') ('blue', 'red') ('blue', 'green') ('blue', 'gray') ('yellow', 'blue') ('yellow', 'yellow') ('yellow', 'red') ('yellow', 'green') ('yellow', 'gray') ('red', 'blue') ('red', 'yellow') ('red', 'red') ('red', 'green') ('red', 'gray') ('green', 'blue') ('green', 'yellow') ('green', 'red') ('green', 'green') ('green', 'gray') ('gray', 'blue') ('gray', 'yellow') ('gray', 'red') ('gray', 'green') ('gray', 'gray') "
     ]
    }
   ],
   "source": [
    "# Product\n",
    "\n",
    "colors = [\"blue\",\"yellow\",\"red\",\"green\",\"gray\"]\n",
    "iterator = it.product(colors,repeat=2)\n",
    "len_iterator = len(list(it.product(colors,repeat=2)))\n",
    "\n",
    "print(f'Hay {len_iterator} formas de combinar {len(colors)} colores de a pares:')\n",
    "\n",
    "for way in iterator:\n",
    "    print(way, end=\" \")\n",
    "    "
   ]
  },
  {
   "cell_type": "markdown",
   "id": "b1306674",
   "metadata": {},
   "source": [
    "Las formas de reproducirlas ya son un poco complicadas. Bah, justo este es el caso más fácil, pero en cualquier presencia tenemos que usar algoritmos de complejidad x^n. Es un tema interesante el de la complejidad algoritmica, quizás tema para otro post.\n",
    "\n",
    "En cualquier caso, si replicamos todas las posibilidades de juntar 2 elementos y sólo DOS de 5 posibles, voy a necesitar de ciclos for anidados, como es el siguiente caso."
   ]
  },
  {
   "cell_type": "code",
   "execution_count": 1,
   "id": "33ddda8d",
   "metadata": {},
   "outputs": [
    {
     "name": "stdout",
     "output_type": "stream",
     "text": [
      "[('A', 'A'), ('A', 'B'), ('A', 'C'), ('A', 'D'), ('A', 'E'), ('B', 'A'), ('B', 'B'), ('B', 'C'), ('B', 'D'), ('B', 'E'), ('C', 'A'), ('C', 'B'), ('C', 'C'), ('C', 'D'), ('C', 'E'), ('D', 'A'), ('D', 'B'), ('D', 'C'), ('D', 'D'), ('D', 'E'), ('E', 'A'), ('E', 'B'), ('E', 'C'), ('E', 'D'), ('E', 'E')] 25\n"
     ]
    }
   ],
   "source": [
    "def product(list):\n",
    "    possibilities = []\n",
    "    for a in list:\n",
    "        for b in list:\n",
    "            possibilities.append((a,b))\n",
    "    return possibilities\n",
    "\n",
    "subjects = [\"A\",\"B\",\"C\",\"D\",\"E\"]\n",
    "\n",
    "p = product(subjects)\n",
    "\n",
    "print(p,len(p))"
   ]
  },
  {
   "cell_type": "markdown",
   "id": "13255631",
   "metadata": {},
   "source": [
    "25 posibilidades, tal como nos había devuelto el método de itertools. Noten que es sumamente útil cuando vamos a necesitar combinaciones de más de 2 elementos. Pongamos un ejemplo más díficil:\n",
    "\n",
    "Averigüemos la cantidad de posibilidades de contraseñas de 5 letras minúsculas que podemos armar con las letras del abecedario español. Como estamos ante un algoritmo complejidad x^n, replicarlo implicaría 5 \"for\" anidados"
   ]
  },
  {
   "cell_type": "code",
   "execution_count": 8,
   "id": "578b5f93",
   "metadata": {},
   "outputs": [
    {
     "name": "stdout",
     "output_type": "stream",
     "text": [
      "14348907\n"
     ]
    }
   ],
   "source": [
    "def product_of_five(list):\n",
    "    possibilities = []\n",
    "    for a in list:\n",
    "        for b in list:\n",
    "            for c in list:\n",
    "                for d in list:\n",
    "                    for e in list:\n",
    "                        possibilities.append((a,b,c,d,e))\n",
    "    return possibilities\n",
    "\n",
    "letters = \"a,b,c,d,e,f,g,h,i,j,k,l,m,n,ñ,o,p,q,r,s,t,u,v,w,x,y,z\".split(\",\")\n",
    "\n",
    "p = product_of_five(letters)\n",
    "\n",
    "print(len(p))"
   ]
  },
  {
   "cell_type": "markdown",
   "id": "4df12e9d",
   "metadata": {},
   "source": [
    "Más de 14 millones de posibilidades. Y eso que son de 5 letras de 23 letras disponibles. Es por eso que en seguridad informatica, a la hora de crear contraseñas, se impulsa no solo a aumentar las posibilidades de combinacion, sino también a hacer contraseñas más largas.\n",
    "\n",
    "El número anterior surge de elevar 27 a la 5"
   ]
  },
  {
   "cell_type": "code",
   "execution_count": 16,
   "id": "c5a744fb",
   "metadata": {},
   "outputs": [
    {
     "name": "stdout",
     "output_type": "stream",
     "text": [
      "14348907 True\n"
     ]
    }
   ],
   "source": [
    "number_of_possibilities = len(letters)**5\n",
    "print(number_of_possibilities, number_of_possibilities == len(p))"
   ]
  },
  {
   "cell_type": "markdown",
   "id": "6273a9c8",
   "metadata": {},
   "source": [
    "Imaginemos que ahora se pueden poner letras mayúsculas, números y 10 simbolos extras. Tendríamos 27 letras * 2 + 20 caracteres para combinar. Serían 74 posibilidades. Si tenemos una contraseña de 10 caracteres, habría que hacer ..."
   ]
  },
  {
   "cell_type": "code",
   "execution_count": 17,
   "id": "fe9bfc92",
   "metadata": {
    "scrolled": true
   },
   "outputs": [
    {
     "data": {
      "text/plain": [
       "4923990397355877376"
      ]
     },
     "execution_count": 17,
     "metadata": {},
     "output_type": "execute_result"
    }
   ],
   "source": [
    "74**10"
   ]
  },
  {
   "cell_type": "markdown",
   "id": "18040e0a",
   "metadata": {},
   "source": [
    "... más de 4*10^19 iteraciones posibles en donde puede encontrarse el resultado. Una contraseña inrobable, al menos por procedimiento de búsqueda por fuerza bruta, es decir, iterando hasta encontrar con la contraseña correcta.\n",
    "\n",
    "Pero bueno, me fui de las ramas. La idea es notar la herramienta simple que nos da itertools y lo que está pasando por atrás.\n",
    "Pasemos a otro tipo."
   ]
  },
  {
   "cell_type": "markdown",
   "id": "76d276b0",
   "metadata": {},
   "source": [
    "### Combinaciones sin repetición\n",
    "\n",
    "Imaginemos que nos quedan 5 materias para terminar con mi carrera universitaria. Estamos llegando al verano y me gustaría aprovechar para rendir dos materias durante ese periodo. Pensemos en la cantidad de combinaciones de materias posibles para poder elegir la mejor opcion. Como el par de materias se rinden el mismo día, no nos va a interesar el orden de dichas combinaciones. Es decir, rendir la materia \"A\" y la materia \"B\" es lo mismo que decir que voy a rendir la materia \"B\" y la materia \"A\". No importa el orden. Esto implica una combinación sin repeticion, la cual podemos reflejar con el método .combinations()\n"
   ]
  },
  {
   "cell_type": "code",
   "execution_count": 20,
   "id": "ebcf4422",
   "metadata": {},
   "outputs": [
    {
     "name": "stdout",
     "output_type": "stream",
     "text": [
      "Hay 10 formas de combinar 2 elementos de  los 5 disponibles:\n",
      "('A', 'B') ('A', 'C') ('A', 'D') ('A', 'E') ('B', 'C') ('B', 'D') ('B', 'E') ('C', 'D') ('C', 'E') ('D', 'E') "
     ]
    }
   ],
   "source": [
    "# Combinations without replacement\n",
    "\n",
    "subjects = [\"A\",\"B\",\"C\",\"D\",\"E\"]\n",
    "exams = 2\n",
    "iterator = it.combinations(subjects,exams)\n",
    "len_iterator = len(list(it.combinations(subjects,exams)))\n",
    "\n",
    "print(f'Hay {len_iterator} formas de combinar {exams} elementos de  los {len(subjects)} disponibles:')\n",
    "\n",
    "for way in iterator:\n",
    "    print(way, end=\" \")"
   ]
  },
  {
   "cell_type": "markdown",
   "id": "3172de98",
   "metadata": {},
   "source": [
    "La cantidad de elementos puede representarse por la siguiente fórmula, la cuál podríamos usar de base para definir una función que me indique la cantidad de combinaciones posibles y otra que replique el comportamiento de it.combinations(), solo para chequear.\n",
    "![](https://economipedia.com/wp-content/uploads/combinatoria-sin-repetici%C3%B3n.jpg)\n"
   ]
  },
  {
   "cell_type": "code",
   "execution_count": 26,
   "id": "9bda3b19",
   "metadata": {},
   "outputs": [
    {
     "name": "stdout",
     "output_type": "stream",
     "text": [
      "[('A', 'B'), ('A', 'C'), ('A', 'D'), ('A', 'E'), ('B', 'C'), ('B', 'D'), ('B', 'E'), ('C', 'D'), ('C', 'E'), ('D', 'E')]\n",
      "10 10.0\n"
     ]
    }
   ],
   "source": [
    "import math\n",
    "\n",
    "def number_combinations(n,x):\n",
    "    \"\"\"\n",
    "    Define la cantidad de combinaciones sin repeticion posibles\n",
    "    \"\"\"\n",
    "    num = math.factorial(n)\n",
    "    den = math.factorial(x) * math.factorial(n-x)\n",
    "    return num/den\n",
    "\n",
    "def combinations_of_two(choices):\n",
    "    possibilities = []\n",
    "    for a in choices:\n",
    "        for b in choices:\n",
    "            if (a < b):\n",
    "                possibilities.append((a,b))\n",
    "    return possibilities\n",
    "    \n",
    "    \n",
    "\n",
    "subjects = [\"A\",\"B\",\"C\",\"D\",\"E\"]\n",
    "n = len(subjects)\n",
    "x = 2\n",
    "\n",
    "comb = combinations_of_two(subjects)\n",
    "\n",
    "print(comb)\n",
    "print(len(comb),number_combinations(n,x))"
   ]
  },
  {
   "cell_type": "markdown",
   "id": "3a7e8313",
   "metadata": {},
   "source": [
    "Misma aclaracion que para los productos. Mientras más grandes sean las combinaciones a realizar, más aumenta la complejidad del algoritmo, al ser del tipo x^n. Otra prueba:"
   ]
  },
  {
   "cell_type": "code",
   "execution_count": 27,
   "id": "a3a69bc0",
   "metadata": {},
   "outputs": [
    {
     "data": {
      "text/plain": [
       "True"
      ]
     },
     "execution_count": 27,
     "metadata": {},
     "output_type": "execute_result"
    }
   ],
   "source": [
    "subjects = [\"A\",\"B\",\"C\",\"D\",\"E\",\"F\",\"G\",\"H\",\"I\",\"J\"]\n",
    "n = len(subjects)\n",
    "x = 2\n",
    "\n",
    "len(combinations_of_two(subjects)) == number_combinations(n,x)"
   ]
  },
  {
   "cell_type": "markdown",
   "id": "04ccfd75",
   "metadata": {},
   "source": [
    "### Variaciones sin repetición\n",
    "\n",
    "\n",
    "¿Cuántas elecciones distintas de delegado y subdelegado se pueden realizar en una clase de 25 alumnos? Lo primero que podemos afirmar es que acá si importa el orden. Si bien voy a elegir 2 personas de un total de 25, no es lo mismo decir que \"A\" es delegado y \"B\" subdelegado, que \"B\" es delegado y \"A\" subdelegado. Son opciones totalmente diferente. En este caso sí importa el orden y estamos frente a una variacion sin repeticion.\n",
    "\n",
    "Itertools nos brinda .permutations() para este tipo de casos. No entiendo realmente porque le pusieron permutaciones a las variaciones sin repetición pero anda todo 10 puntos. Repliquemos el ejemplo anterior:\n",
    "\n",
    "![](https://static.wixstatic.com/media/2410c5_4f14ae7dc844409793720eeaa0bf01c7~mv2.png/v1/fill/w_200,h_88,al_c,q_85/2410c5_4f14ae7dc844409793720eeaa0bf01c7~mv2.webp)"
   ]
  },
  {
   "cell_type": "code",
   "execution_count": 32,
   "id": "84be19d2",
   "metadata": {},
   "outputs": [
    {
     "name": "stdout",
     "output_type": "stream",
     "text": [
      "Hay 600 formas de combinar 25 elementos:\n",
      "(0, 1) (0, 2) (0, 3) (0, 4) (0, 5) (0, 6) (0, 7) (0, 8) (0, 9) (0, 10) (0, 11) (0, 12) (0, 13) (0, 14) (0, 15) (0, 16) (0, 17) (0, 18) (0, 19) (0, 20) (0, 21) (0, 22) (0, 23) (0, 24) (1, 0) (1, 2) (1, 3) (1, 4) (1, 5) (1, 6) (1, 7) (1, 8) (1, 9) (1, 10) (1, 11) (1, 12) (1, 13) (1, 14) (1, 15) (1, 16) (1, 17) (1, 18) (1, 19) (1, 20) (1, 21) (1, 22) (1, 23) (1, 24) (2, 0) (2, 1) (2, 3) (2, 4) (2, 5) (2, 6) (2, 7) (2, 8) (2, 9) (2, 10) (2, 11) (2, 12) (2, 13) (2, 14) (2, 15) (2, 16) (2, 17) (2, 18) (2, 19) (2, 20) (2, 21) (2, 22) (2, 23) (2, 24) (3, 0) (3, 1) (3, 2) (3, 4) (3, 5) (3, 6) (3, 7) (3, 8) (3, 9) (3, 10) (3, 11) (3, 12) (3, 13) (3, 14) (3, 15) (3, 16) (3, 17) (3, 18) (3, 19) (3, 20) (3, 21) (3, 22) (3, 23) (3, 24) (4, 0) (4, 1) (4, 2) (4, 3) (4, 5) (4, 6) (4, 7) (4, 8) (4, 9) (4, 10) (4, 11) (4, 12) (4, 13) (4, 14) (4, 15) (4, 16) (4, 17) (4, 18) (4, 19) (4, 20) (4, 21) (4, 22) (4, 23) (4, 24) (5, 0) (5, 1) (5, 2) (5, 3) (5, 4) (5, 6) (5, 7) (5, 8) (5, 9) (5, 10) (5, 11) (5, 12) (5, 13) (5, 14) (5, 15) (5, 16) (5, 17) (5, 18) (5, 19) (5, 20) (5, 21) (5, 22) (5, 23) (5, 24) (6, 0) (6, 1) (6, 2) (6, 3) (6, 4) (6, 5) (6, 7) (6, 8) (6, 9) (6, 10) (6, 11) (6, 12) (6, 13) (6, 14) (6, 15) (6, 16) (6, 17) (6, 18) (6, 19) (6, 20) (6, 21) (6, 22) (6, 23) (6, 24) (7, 0) (7, 1) (7, 2) (7, 3) (7, 4) (7, 5) (7, 6) (7, 8) (7, 9) (7, 10) (7, 11) (7, 12) (7, 13) (7, 14) (7, 15) (7, 16) (7, 17) (7, 18) (7, 19) (7, 20) (7, 21) (7, 22) (7, 23) (7, 24) (8, 0) (8, 1) (8, 2) (8, 3) (8, 4) (8, 5) (8, 6) (8, 7) (8, 9) (8, 10) (8, 11) (8, 12) (8, 13) (8, 14) (8, 15) (8, 16) (8, 17) (8, 18) (8, 19) (8, 20) (8, 21) (8, 22) (8, 23) (8, 24) (9, 0) (9, 1) (9, 2) (9, 3) (9, 4) (9, 5) (9, 6) (9, 7) (9, 8) (9, 10) (9, 11) (9, 12) (9, 13) (9, 14) (9, 15) (9, 16) (9, 17) (9, 18) (9, 19) (9, 20) (9, 21) (9, 22) (9, 23) (9, 24) (10, 0) (10, 1) (10, 2) (10, 3) (10, 4) (10, 5) (10, 6) (10, 7) (10, 8) (10, 9) (10, 11) (10, 12) (10, 13) (10, 14) (10, 15) (10, 16) (10, 17) (10, 18) (10, 19) (10, 20) (10, 21) (10, 22) (10, 23) (10, 24) (11, 0) (11, 1) (11, 2) (11, 3) (11, 4) (11, 5) (11, 6) (11, 7) (11, 8) (11, 9) (11, 10) (11, 12) (11, 13) (11, 14) (11, 15) (11, 16) (11, 17) (11, 18) (11, 19) (11, 20) (11, 21) (11, 22) (11, 23) (11, 24) (12, 0) (12, 1) (12, 2) (12, 3) (12, 4) (12, 5) (12, 6) (12, 7) (12, 8) (12, 9) (12, 10) (12, 11) (12, 13) (12, 14) (12, 15) (12, 16) (12, 17) (12, 18) (12, 19) (12, 20) (12, 21) (12, 22) (12, 23) (12, 24) (13, 0) (13, 1) (13, 2) (13, 3) (13, 4) (13, 5) (13, 6) (13, 7) (13, 8) (13, 9) (13, 10) (13, 11) (13, 12) (13, 14) (13, 15) (13, 16) (13, 17) (13, 18) (13, 19) (13, 20) (13, 21) (13, 22) (13, 23) (13, 24) (14, 0) (14, 1) (14, 2) (14, 3) (14, 4) (14, 5) (14, 6) (14, 7) (14, 8) (14, 9) (14, 10) (14, 11) (14, 12) (14, 13) (14, 15) (14, 16) (14, 17) (14, 18) (14, 19) (14, 20) (14, 21) (14, 22) (14, 23) (14, 24) (15, 0) (15, 1) (15, 2) (15, 3) (15, 4) (15, 5) (15, 6) (15, 7) (15, 8) (15, 9) (15, 10) (15, 11) (15, 12) (15, 13) (15, 14) (15, 16) (15, 17) (15, 18) (15, 19) (15, 20) (15, 21) (15, 22) (15, 23) (15, 24) (16, 0) (16, 1) (16, 2) (16, 3) (16, 4) (16, 5) (16, 6) (16, 7) (16, 8) (16, 9) (16, 10) (16, 11) (16, 12) (16, 13) (16, 14) (16, 15) (16, 17) (16, 18) (16, 19) (16, 20) (16, 21) (16, 22) (16, 23) (16, 24) (17, 0) (17, 1) (17, 2) (17, 3) (17, 4) (17, 5) (17, 6) (17, 7) (17, 8) (17, 9) (17, 10) (17, 11) (17, 12) (17, 13) (17, 14) (17, 15) (17, 16) (17, 18) (17, 19) (17, 20) (17, 21) (17, 22) (17, 23) (17, 24) (18, 0) (18, 1) (18, 2) (18, 3) (18, 4) (18, 5) (18, 6) (18, 7) (18, 8) (18, 9) (18, 10) (18, 11) (18, 12) (18, 13) (18, 14) (18, 15) (18, 16) (18, 17) (18, 19) (18, 20) (18, 21) (18, 22) (18, 23) (18, 24) (19, 0) (19, 1) (19, 2) (19, 3) (19, 4) (19, 5) (19, 6) (19, 7) (19, 8) (19, 9) (19, 10) (19, 11) (19, 12) (19, 13) (19, 14) (19, 15) (19, 16) (19, 17) (19, 18) (19, 20) (19, 21) (19, 22) (19, 23) (19, 24) (20, 0) (20, 1) (20, 2) (20, 3) (20, 4) (20, 5) (20, 6) (20, 7) (20, 8) (20, 9) (20, 10) (20, 11) (20, 12) (20, 13) (20, 14) (20, 15) (20, 16) (20, 17) (20, 18) (20, 19) (20, 21) (20, 22) (20, 23) (20, 24) (21, 0) (21, 1) (21, 2) (21, 3) (21, 4) (21, 5) (21, 6) (21, 7) (21, 8) (21, 9) (21, 10) (21, 11) (21, 12) (21, 13) (21, 14) (21, 15) (21, 16) (21, 17) (21, 18) (21, 19) (21, 20) (21, 22) (21, 23) (21, 24) (22, 0) (22, 1) (22, 2) (22, 3) (22, 4) (22, 5) (22, 6) (22, 7) (22, 8) (22, 9) (22, 10) (22, 11) (22, 12) (22, 13) (22, 14) (22, 15) (22, 16) (22, 17) (22, 18) (22, 19) (22, 20) (22, 21) (22, 23) (22, 24) (23, 0) (23, 1) (23, 2) (23, 3) (23, 4) (23, 5) (23, 6) (23, 7) (23, 8) (23, 9) (23, 10) (23, 11) (23, 12) (23, 13) (23, 14) (23, 15) (23, 16) (23, 17) (23, 18) (23, 19) (23, 20) (23, 21) (23, 22) (23, 24) (24, 0) (24, 1) (24, 2) (24, 3) (24, 4) (24, 5) (24, 6) (24, 7) (24, 8) (24, 9) (24, 10) (24, 11) (24, 12) (24, 13) (24, 14) (24, 15) (24, 16) (24, 17) (24, 18) (24, 19) (24, 20) (24, 21) (24, 22) (24, 23) "
     ]
    }
   ],
   "source": [
    "# \"Permutations\" - Variations without replacement\n",
    "\n",
    "students = range(1,26)\n",
    "iterator = it.permutations(students,2)\n",
    "len_iterator = len(list(it.permutations(students,2)))\n",
    "\n",
    "print(f'Hay {len_iterator} formas de combinar {len(students)} elementos:')\n",
    "\n",
    "for way in iterator:\n",
    "    print(way, end=\" \")\n",
    "    "
   ]
  },
  {
   "cell_type": "markdown",
   "id": "87ba311e",
   "metadata": {},
   "source": [
    "Ahora nuestra función casera. Calculemos las combinaciones con dos ciclos for anidados y, además, la cantidad de posibilidades siguiendo la fórmula que pegué más arriba. No imprimo los 600 resultados para no saturar, solo muestro la longitud de la lista para ver si es correcta."
   ]
  },
  {
   "cell_type": "code",
   "execution_count": 44,
   "id": "e23951d9",
   "metadata": {},
   "outputs": [
    {
     "name": "stdout",
     "output_type": "stream",
     "text": [
      "600 600.0\n"
     ]
    }
   ],
   "source": [
    "def number_variations(m,n):\n",
    "    \"\"\"\n",
    "    Devuelve en número de variaciones sin repetición según fórmula\n",
    "    \"\"\"\n",
    "    num = math.factorial(m)\n",
    "    den = math.factorial(m-n)\n",
    "    return num/den\n",
    "\n",
    "def variations_of_two(choices):\n",
    "    \"\"\"\n",
    "    Devuelve lista de posibilidades de variaciones sin repetición\n",
    "    \"\"\"\n",
    "    possibilities = []\n",
    "    for a in choices:\n",
    "        for b in choices:\n",
    "            if (a != b):\n",
    "                possibilities.append((a,b))\n",
    "    return possibilities\n",
    "    \n",
    "    \n",
    "\n",
    "students = range(1,26)\n",
    "m = len(students)\n",
    "n = 2\n",
    "\n",
    "comb = variations_of_two(students)\n",
    "\n",
    "print(len(comb),number_variations(m,n))"
   ]
  },
  {
   "cell_type": "markdown",
   "id": "2a8e5b61",
   "metadata": {},
   "source": [
    "### Combinaciones con repetición\n",
    "\n",
    "El último método del módulo es .combinations_with_replacement(). Volvemos a las combinaciones, en donde el orden en que escojo los elementos de un conjunto más grande no es importante. Vuelvo al mismo ejemplo: \"A\" y \"B\" cuenta igual que \"B\" y \"A\". Pero en este caso, más posibilidades pueden ser contempladas, ya que pueden repetirse elementos. Es decir, el par \"A\" y \"A\" es totalmente válido, así como el par \"B\" y \"B\".\n",
    "\n",
    "![](https://www.superprof.es/apuntes/wp-content/ql-cache/quicklatex.com-2da56464feec4c811ecccd097c55d615_l3.png)"
   ]
  },
  {
   "cell_type": "markdown",
   "id": "7c8d9fea",
   "metadata": {},
   "source": [
    "Si como premio de una copa te dejan llevar 2 botellas de un total de 10 diferentes, las posibilidades se evaluan con combinaciones con repeticion. ¿Por qué? Bueno, primero no entran todos los elementos. Sólo 2. Segundo, no importa el orden. Da igual que elija 1 botellas de vodka y 1 de ron, que 1 de ron y 1 de vodka. Y tercero (y acá está la clave) SI se repiten los elementos porque podes elegir más de una botella del mismo tipo. Repliquemoslo con itertools y más abajo con una función sintética\n"
   ]
  },
  {
   "cell_type": "code",
   "execution_count": 57,
   "id": "4845b990",
   "metadata": {},
   "outputs": [
    {
     "name": "stdout",
     "output_type": "stream",
     "text": [
      "55 posibilidades de elegir.\n",
      "Algunos resultados:\n",
      " [('fernet', 'baileys'), ('fernet', 'beer'), ('fernet', 'brandy'), ('fernet', 'ginebra'), ('whisky', 'whisky')]\n"
     ]
    }
   ],
   "source": [
    "bottles = [\"wine\",\"ron\",\"vodka\",\"fernet\",\"whisky\",\"jägermeister\",\"baileys\",\"beer\",\"brandy\",\"ginebra\"]\n",
    "\n",
    "possibilities = list(it.combinations_with_replacement(bottles,2))\n",
    "\n",
    "print(len(possibilities),\"posibilidades de elegir.\")\n",
    "print(\"Algunos resultados:\\n\",possibilities[30:35])"
   ]
  },
  {
   "cell_type": "markdown",
   "id": "7ce3ea82",
   "metadata": {},
   "source": [
    "Muestro algunos resultados para no saturar el output, pero como ven en el último ejemplo, me puede gustar mucho el Whiskey y querer llevarme dos botellas, por eso aplica combinaciones con repetición. Si quiero replicarlo, necesito un ciclo for por cada botella:"
   ]
  },
  {
   "cell_type": "code",
   "execution_count": 58,
   "id": "4937e7a4",
   "metadata": {},
   "outputs": [
    {
     "name": "stdout",
     "output_type": "stream",
     "text": [
      "55 55.0\n"
     ]
    }
   ],
   "source": [
    "def number_combinations_with_replacement(m,n):\n",
    "    \"\"\"\n",
    "    Devuelve en número de combinaciones con repetición según fórmula\n",
    "    \"\"\"\n",
    "    num = math.factorial(m+n-1)\n",
    "    den = math.factorial(n) * math.factorial(m-1)\n",
    "    return num/den\n",
    "\n",
    "def cwr_of_two(choices):\n",
    "    \"\"\"\n",
    "    Devuelve lista de posibilidades de combinaciones con repetición\n",
    "    \"\"\"\n",
    "    possibilities = []\n",
    "    for a in choices:\n",
    "        for b in choices:\n",
    "            if (a <= b):\n",
    "                possibilities.append((a,b))\n",
    "    return possibilities\n",
    "    \n",
    "    \n",
    "m = len(bottles)\n",
    "n = 2\n",
    "\n",
    "comb = cwr_of_two(bottles)\n",
    "\n",
    "print(len(comb),number_combinations_with_replacement(m,n))"
   ]
  },
  {
   "cell_type": "markdown",
   "id": "770f2d3a",
   "metadata": {},
   "source": [
    "### Permutaciones (propiamente dichas)\n",
    "\n",
    "En realidad, itertools no nos brinda esta opción, lo cual es raro porque es igual de útil que las demás pero de todas formas podemos crearla nosotros. Ah, y aclaro \"propiamente dichas\" porque el método .permutations() aplica a las variaciones sin repetición.\n",
    "\n",
    "En los casos que tenemos un conjunto de elementos y queremos analizar las forma de juntar TODOS los elementos del conjunto estamos ante una permutación. El ejemplo clásico es la forma de sentar a 4 amigos en el cine de forma que estén uno al lado del otro. Para eso, usamos las permutaciones, y la fórmula es la más sencilla de todas.\n",
    "\n",
    "Si subimos a ver la fórmula de las variaciones sin repetición en la cual tampoco importa en orden y reemplazamos la \"m\" por la \"n\" (ya que todos los elementos del conjunto son analizado), simplificamos y llegamos a un simple **n!**\n",
    "\n",
    "\n",
    "\n"
   ]
  },
  {
   "cell_type": "code",
   "execution_count": 64,
   "id": "da56cdd8",
   "metadata": {},
   "outputs": [
    {
     "name": "stdout",
     "output_type": "stream",
     "text": [
      "24 24\n",
      "[('Santos', 'Lampone', 'Ravenna', 'Medina'), ('Santos', 'Lampone', 'Medina', 'Ravenna'), ('Santos', 'Ravenna', 'Lampone', 'Medina'), ('Santos', 'Ravenna', 'Medina', 'Lampone'), ('Santos', 'Medina', 'Lampone', 'Ravenna'), ('Santos', 'Medina', 'Ravenna', 'Lampone'), ('Lampone', 'Santos', 'Ravenna', 'Medina'), ('Lampone', 'Santos', 'Medina', 'Ravenna'), ('Lampone', 'Ravenna', 'Santos', 'Medina'), ('Lampone', 'Ravenna', 'Medina', 'Santos'), ('Lampone', 'Medina', 'Santos', 'Ravenna'), ('Lampone', 'Medina', 'Ravenna', 'Santos'), ('Ravenna', 'Santos', 'Lampone', 'Medina'), ('Ravenna', 'Santos', 'Medina', 'Lampone'), ('Ravenna', 'Lampone', 'Santos', 'Medina'), ('Ravenna', 'Lampone', 'Medina', 'Santos'), ('Ravenna', 'Medina', 'Santos', 'Lampone'), ('Ravenna', 'Medina', 'Lampone', 'Santos'), ('Medina', 'Santos', 'Lampone', 'Ravenna'), ('Medina', 'Santos', 'Ravenna', 'Lampone'), ('Medina', 'Lampone', 'Santos', 'Ravenna'), ('Medina', 'Lampone', 'Ravenna', 'Santos'), ('Medina', 'Ravenna', 'Santos', 'Lampone'), ('Medina', 'Ravenna', 'Lampone', 'Santos')]\n"
     ]
    }
   ],
   "source": [
    "def number_permutations(n):\n",
    "    return math.factorial(n)\n",
    "\n",
    "def permutations_of_four(choices):\n",
    "    possibilities = []\n",
    "    for a in choices:\n",
    "        for b in choices:\n",
    "            for c in choices:\n",
    "                for d in choices:\n",
    "                    if (a != b) and (b != c) and (c != d) and (d != a) and (a != c) and (b != d):  \n",
    "                        possibilities.append((a,b,c,d))\n",
    "    return possibilities\n",
    "\n",
    "friends = [\"Santos\",\"Lampone\",\"Ravenna\",\"Medina\"]\n",
    "possibilities = permutations_of_four(friends)\n",
    "print(number_permutations(len(friends)), len(possibilities))\n",
    "print(possibilities)"
   ]
  }
 ],
 "metadata": {
  "kernelspec": {
   "display_name": "Python 3",
   "language": "python",
   "name": "python3"
  },
  "language_info": {
   "codemirror_mode": {
    "name": "ipython",
    "version": 3
   },
   "file_extension": ".py",
   "mimetype": "text/x-python",
   "name": "python",
   "nbconvert_exporter": "python",
   "pygments_lexer": "ipython3",
   "version": "3.8.8"
  }
 },
 "nbformat": 4,
 "nbformat_minor": 5
}
