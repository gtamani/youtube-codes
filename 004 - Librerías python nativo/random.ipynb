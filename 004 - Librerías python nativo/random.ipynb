{
 "cells": [
  {
   "cell_type": "code",
   "execution_count": 1,
   "id": "dd79de76",
   "metadata": {},
   "outputs": [],
   "source": [
    "import random"
   ]
  },
  {
   "cell_type": "code",
   "execution_count": 9,
   "id": "12e1bb0e",
   "metadata": {},
   "outputs": [
    {
     "data": {
      "text/plain": [
       "42"
      ]
     },
     "execution_count": 9,
     "metadata": {},
     "output_type": "execute_result"
    }
   ],
   "source": [
    "random.randrange(2,50,2)"
   ]
  },
  {
   "cell_type": "code",
   "execution_count": 10,
   "id": "2b1baac7",
   "metadata": {},
   "outputs": [
    {
     "data": {
      "text/plain": [
       "43"
      ]
     },
     "execution_count": 10,
     "metadata": {},
     "output_type": "execute_result"
    }
   ],
   "source": [
    "random.randint(10,100)"
   ]
  },
  {
   "cell_type": "code",
   "execution_count": 22,
   "id": "edd2be13",
   "metadata": {},
   "outputs": [
    {
     "data": {
      "text/plain": [
       "[189, 8, 109]"
      ]
     },
     "execution_count": 22,
     "metadata": {},
     "output_type": "execute_result"
    }
   ],
   "source": [
    "[random.getrandbits(8) for x in range(3)]\n",
    "\n"
   ]
  },
  {
   "cell_type": "code",
   "execution_count": 23,
   "id": "67b2a026",
   "metadata": {},
   "outputs": [
    {
     "data": {
      "text/plain": [
       "'azul'"
      ]
     },
     "execution_count": 23,
     "metadata": {},
     "output_type": "execute_result"
    }
   ],
   "source": [
    "random.choice([\"azul\",\"roja\"])"
   ]
  },
  {
   "cell_type": "code",
   "execution_count": 29,
   "id": "eff1b52c",
   "metadata": {},
   "outputs": [
    {
     "data": {
      "text/plain": [
       "['d', 'a', 'd', 'b', 'd', 'd', 'd', 'd']"
      ]
     },
     "execution_count": 29,
     "metadata": {},
     "output_type": "execute_result"
    }
   ],
   "source": [
    "random.choices([\"a\",\"b\",\"c\",\"d\"],cum_weights=[1,2,3,10],k=8)"
   ]
  },
  {
   "cell_type": "code",
   "execution_count": 32,
   "id": "067929fe",
   "metadata": {},
   "outputs": [
    {
     "data": {
      "text/plain": [
       "['d', 'd', 'c', 'd', 'd', 'd', 'c', 'b']"
      ]
     },
     "execution_count": 32,
     "metadata": {},
     "output_type": "execute_result"
    }
   ],
   "source": [
    "[random.choice([\"a\"]+[\"b\"]*2+[\"c\"]*3+[\"d\"]*10) for k in range(8)]"
   ]
  },
  {
   "cell_type": "code",
   "execution_count": 46,
   "id": "ae111931",
   "metadata": {},
   "outputs": [
    {
     "name": "stdout",
     "output_type": "stream",
     "text": [
      "['1 de espada', '2 de espada', '3 de espada', '4 de espada', '5 de espada', '6 de espada', '7 de espada', '10 de espada', '11 de espada', '12 de espada', '1 de oro', '2 de oro', '3 de oro', '4 de oro', '5 de oro', '6 de oro', '7 de oro', '10 de oro', '11 de oro', '12 de oro', '1 de copa', '2 de copa', '3 de copa', '4 de copa', '5 de copa', '6 de copa', '7 de copa', '10 de copa', '11 de copa', '12 de copa', '1 de basto', '2 de basto', '3 de basto', '4 de basto', '5 de basto', '6 de basto', '7 de basto', '10 de basto', '11 de basto', '12 de basto']\n"
     ]
    }
   ],
   "source": [
    "import itertools as it\n",
    "\n",
    "cards = []\n",
    "for palo in [\"espada\",\"oro\",\"copa\",\"basto\"]:\n",
    "    for number in it.filterfalse(lambda x: x in [8,9],range(1,13)):\n",
    "        cards.append(f'{number} de {palo}')\n",
    "print(cards)"
   ]
  },
  {
   "cell_type": "code",
   "execution_count": 40,
   "id": "76ddbfa0",
   "metadata": {},
   "outputs": [
    {
     "name": "stdout",
     "output_type": "stream",
     "text": [
      "['1 de espada', '4 de copa', '12 de basto'] ['11 de copa', '3 de oro', '5 de copa']\n"
     ]
    }
   ],
   "source": [
    "# Mezclamos las cartas\n",
    "random.shuffle(cards)\n",
    "\n",
    "# Damos vuelta el mazo y repartimos 3 cartas a cada jugador\n",
    "playerA = cards[-3:]\n",
    "playerB = cards[-6:-3]\n",
    "\n",
    "print(playerA, playerB)"
   ]
  },
  {
   "cell_type": "code",
   "execution_count": 50,
   "id": "020c7ce2",
   "metadata": {},
   "outputs": [
    {
     "data": {
      "text/plain": [
       "0.9145207218793566"
      ]
     },
     "execution_count": 50,
     "metadata": {},
     "output_type": "execute_result"
    }
   ],
   "source": [
    "random.random()"
   ]
  },
  {
   "cell_type": "code",
   "execution_count": 98,
   "id": "28cfd960",
   "metadata": {},
   "outputs": [
    {
     "data": {
      "image/png": "[encoded data removed]",
      "text/plain": [
       "<Figure size 432x288 with 1 Axes>"
      ]
     },
     "metadata": {
      "needs_background": "light"
     },
     "output_type": "display_data"
    },
    {
     "name": "stdout",
     "output_type": "stream",
     "text": [
      "mean: 150.03179256659334\n",
      "stdev: 28.913463143443657\n",
      "mode: 121.67797806134007\n"
     ]
    }
   ],
   "source": [
    "import matplotlib.pyplot as plt\n",
    "import numpy as np\n",
    "import statistics as stat\n",
    "\n",
    "\n",
    "values = [random.uniform(100,200) for x in range(100_000)]\n",
    "mean,std,mode = np.mean(values), np.std(values), stat.mode(values)\n",
    "\n",
    "plt.axvline(mean,c=\"red\")\n",
    "for s in [mean-std,mean+std]:\n",
    "    plt.axvline(s,c=\"orange\")\n",
    "\n",
    "plt.hist(values,bins=100)\n",
    "plt.show()\n",
    "print(f'mean: {mean}\\nstdev: {std}\\nmode: {mode}')"
   ]
  },
  {
   "cell_type": "code",
   "execution_count": 97,
   "id": "d172aec4",
   "metadata": {},
   "outputs": [
    {
     "data": {
      "image/png": "[encoded data removed]",
      "text/plain": [
       "<Figure size 432x288 with 1 Axes>"
      ]
     },
     "metadata": {
      "needs_background": "light"
     },
     "output_type": "display_data"
    },
    {
     "name": "stdout",
     "output_type": "stream",
     "text": [
      "mean: 150.0011991408326\n",
      "stdev: 20.446455649130055\n",
      "mode: 165.15188433806756\n"
     ]
    }
   ],
   "source": [
    "\n",
    "values = [random.triangular(100,200) for x in range(100_000)]\n",
    "mean,std,mode = np.mean(values), np.std(values), stat.mode(values)\n",
    "\n",
    "plt.hist(values,bins=100)\n",
    "\n",
    "plt.axvline(mean,c=\"red\")\n",
    "for s in [mean-std,mean+std]:\n",
    "    plt.axvline(s,c=\"orange\")\n",
    "\n",
    "plt.show()\n",
    "print(f'mean: {np.mean(values)}\\nstdev: {np.std(values)}\\nmode: {mode}')"
   ]
  },
  {
   "cell_type": "code",
   "execution_count": 96,
   "id": "f3003d10",
   "metadata": {},
   "outputs": [
    {
     "data": {
      "image/png": "[encoded data removed]",
      "text/plain": [
       "<Figure size 432x288 with 1 Axes>"
      ]
     },
     "metadata": {
      "needs_background": "light"
     },
     "output_type": "display_data"
    },
    {
     "name": "stdout",
     "output_type": "stream",
     "text": [
      "mean: 149.886081351652\n",
      "stdev: 20.00920612592449\n",
      "mode: 137.0245274353451\n"
     ]
    }
   ],
   "source": [
    "values = [random.gauss(150,20) for x in range(100_000)]\n",
    "\n",
    "plt.hist(values,bins=100)\n",
    "mean,std,mode = np.mean(values), np.std(values), stat.mode(values)\n",
    "\n",
    "plt.axvline(mean,c=\"red\")\n",
    "for s in [mean-std,mean+std]:\n",
    "    plt.axvline(s,c=\"orange\")\n",
    "    \n",
    "plt.show()\n",
    "print(f'mean: {mean}\\nstdev: {std}\\nmode: {mode}')"
   ]
  },
  {
   "cell_type": "code",
   "execution_count": 99,
   "id": "fe76144a",
   "metadata": {},
   "outputs": [
    {
     "data": {
      "image/png": "[encoded data removed]",
      "text/plain": [
       "<Figure size 432x288 with 1 Axes>"
      ]
     },
     "metadata": {
      "needs_background": "light"
     },
     "output_type": "display_data"
    }
   ],
   "source": [
    "a,b = 8,2\n",
    "values = [random.betavariate(a+1,b+1) for x in range(100_000)]\n",
    "\n",
    "plt.axvline(a/(a+b),c=\"red\")\n",
    "\n",
    "plt.hist(values,bins=100)\n",
    "plt.show()"
   ]
  },
  {
   "cell_type": "code",
   "execution_count": 58,
   "id": "dac6c699",
   "metadata": {},
   "outputs": [
    {
     "data": {
      "text/plain": [
       "4.034738704653064e+56"
      ]
     },
     "execution_count": 58,
     "metadata": {},
     "output_type": "execute_result"
    }
   ],
   "source": [
    "random.lognormvariate(150,20)"
   ]
  },
  {
   "cell_type": "code",
   "execution_count": 112,
   "id": "e351b49f",
   "metadata": {},
   "outputs": [
    {
     "data": {
      "image/png": "[encoded data removed]",
      "text/plain": [
       "<Figure size 432x288 with 1 Axes>"
      ]
     },
     "metadata": {
      "needs_background": "light"
     },
     "output_type": "display_data"
    }
   ],
   "source": [
    "# EXPONENTIAL DISTRIBUTION\n",
    "# lambda =  average number of event in 1 unit of time\n",
    "lambda_ = 3\n",
    "values = [random.expovariate(lambda_) for x in range(100_000)]\n",
    "\n",
    "plt.hist(values,bins=500)\n",
    "plt.xlim(0,2)\n",
    "plt.show()"
   ]
  },
  {
   "cell_type": "code",
   "execution_count": 109,
   "id": "8a02568d",
   "metadata": {},
   "outputs": [
    {
     "data": {
      "image/png": "[encoded data removed]",
      "text/plain": [
       "<Figure size 432x288 with 1 Axes>"
      ]
     },
     "metadata": {
      "needs_background": "light"
     },
     "output_type": "display_data"
    }
   ],
   "source": [
    "# GAMMA DISTRIBUTION\n",
    "alpha, beta = 3,2\n",
    "values = [random.gammavariate(alpha,beta) for x in range(100_000)]\n",
    "\n",
    "plt.hist(values,bins=100)\n",
    "plt.show()"
   ]
  },
  {
   "cell_type": "code",
   "execution_count": 125,
   "id": "27581517",
   "metadata": {},
   "outputs": [
    {
     "data": {
      "image/png": "[encoded data removed]",
      "text/plain": [
       "<Figure size 432x288 with 1 Axes>"
      ]
     },
     "metadata": {
      "needs_background": "light"
     },
     "output_type": "display_data"
    }
   ],
   "source": [
    "# PARETO DISTRIBUTION (80% - 20%)\n",
    "alpha = 5\n",
    "values = [random.paretovariate(alpha) for x in range(100_000)]\n",
    "\n",
    "plt.hist(values,bins=1000)\n",
    "plt.xlim(0,3)\n",
    "\n",
    "plt.show()"
   ]
  },
  {
   "cell_type": "code",
   "execution_count": 129,
   "id": "790d8d2a",
   "metadata": {},
   "outputs": [
    {
     "data": {
      "image/png": "[encoded data removed]",
      "text/plain": [
       "<Figure size 432x288 with 1 Axes>"
      ]
     },
     "metadata": {
      "needs_background": "light"
     },
     "output_type": "display_data"
    }
   ],
   "source": [
    "# VON MISES DISTRIBUTION \n",
    "values = [random.vonmisesvariate(1,3) for x in range(100_000)]\n",
    "plt.hist(values,bins=1000)\n",
    "plt.show()"
   ]
  },
  {
   "cell_type": "code",
   "execution_count": 140,
   "id": "7c57e5c6",
   "metadata": {},
   "outputs": [
    {
     "data": {
      "image/png": "[encoded data removed]",
      "text/plain": [
       "<Figure size 432x288 with 1 Axes>"
      ]
     },
     "metadata": {
      "needs_background": "light"
     },
     "output_type": "display_data"
    }
   ],
   "source": [
    "# WEIBULL DISTRIBUTION \n",
    "alpha,beta = 2.2, 1.023\n",
    "values = [random.weibullvariate(alpha,beta) for x in range(100_000)]\n",
    "plt.hist(values,bins=1000)\n",
    "\n",
    "plt.show()"
   ]
  },
  {
   "cell_type": "code",
   "execution_count": null,
   "id": "9337ee9a",
   "metadata": {},
   "outputs": [],
   "source": []
  }
 ],
 "metadata": {
  "kernelspec": {
   "display_name": "Python 3",
   "language": "python",
   "name": "python3"
  },
  "language_info": {
   "codemirror_mode": {
    "name": "ipython",
    "version": 3
   },
   "file_extension": ".py",
   "mimetype": "text/x-python",
   "name": "python",
   "nbconvert_exporter": "python",
   "pygments_lexer": "ipython3",
   "version": "3.8.8"
  }
 },
 "nbformat": 4,
 "nbformat_minor": 5
}
